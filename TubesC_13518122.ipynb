{
  "nbformat": 4,
  "nbformat_minor": 0,
  "metadata": {
    "colab": {
      "name": "TubesC_13518122.ipynb",
      "provenance": [],
      "collapsed_sections": []
    },
    "kernelspec": {
      "name": "python3",
      "display_name": "Python 3"
    }
  },
  "cells": [
    {
      "cell_type": "markdown",
      "metadata": {
        "id": "G_V-46FD2alR"
      },
      "source": [
        "# Bagian C\n",
        "---\n",
        "**Persiapan Eksperimen**\n",
        "\n",
        "Anggota : \n",
        "- Jovan Karuna Cahyadi (13518024)\n",
        "- Ricky Fernando (13518062)\n",
        "- Stefanus Stanley Yoga Setiawan (13518122)\n",
        "- William (13518138)"
      ]
    },
    {
      "cell_type": "markdown",
      "metadata": {
        "id": "NGYLQYM8rAdQ"
      },
      "source": [
        "# External Library & Notebook Sanity Check\n",
        "---\n",
        "Berikut library eksternal yang kami gunakan :\n",
        "- numpy\n",
        "- pandas\n",
        "\n"
      ]
    },
    {
      "cell_type": "code",
      "metadata": {
        "id": "KDyl1pVbGxSl"
      },
      "source": [
        "import pandas as pd\n",
        "import math\n",
        "import numpy as np\n",
        "import json\n",
        "import matplotlib.pyplot as plt\n",
        "\n",
        "from copy import deepcopy\n",
        "from json import JSONEncoder\n",
        "from pprint import pprint\n",
        "\n",
        "import warnings\n",
        "warnings.filterwarnings('ignore')"
      ],
      "execution_count": null,
      "outputs": []
    },
    {
      "cell_type": "markdown",
      "metadata": {
        "id": "xKmn1dKWrEcp"
      },
      "source": [
        "# Utility Function\n",
        "\n",
        "---\n",
        "Terdapat beberapa fungsi _utility_ yang kami buat untuk mempermudah tahapan pembangunan Neural Network, sebagai berikut:\n",
        "\n",
        "Sementara itu, fungsi - fungsi _activation_ yang telah dibuat pada bagian A sebelumnya diubah agar dapat menghitung nilai derivasi fungsi, yaitu:\n",
        "\n",
        "\n"
      ]
    },
    {
      "cell_type": "code",
      "metadata": {
        "id": "3jF6vqEFGPCe"
      },
      "source": [
        "###################\n",
        "# Model Selection #\n",
        "###################\n",
        "def one_hot_encoder(y):\n",
        "  b = np.zeros((y.size, y.max()+1))\n",
        "  b[np.arange(y.size),y] = 1\n",
        "  return b\n",
        "  \n",
        "#################\n",
        "# Loss Function #\n",
        "#################\n",
        "\n",
        "def mse(y_pred, y, derivative=False):\n",
        "  if derivative:\n",
        "    return -1*(y-y_pred)\n",
        "  return 0.5*(y-y_pred)**2\n",
        "\n",
        "def cross_entropy(y_pred, y):\n",
        "  n_data = len(y[0])\n",
        "  res = []\n",
        "  for i in range(n_data):\n",
        "    target = y[:, i]\n",
        "    target_index = np.where(target==1)[0][0]\n",
        "    err = -np.log10(y_pred[:, i][target_index])\n",
        "    res.append(err)\n",
        "  return np.array(res)\n",
        "\n",
        "#######################\n",
        "# Activation Function #\n",
        "#######################\n",
        "\n",
        "def relu(x, derivative=False):\n",
        "  if derivative:\n",
        "    return 1\n",
        "  return np.maximum(0, x)\n",
        "\n",
        "def linear(x, derivative=False):\n",
        "  if derivative:\n",
        "    return 1\n",
        "  return x\n",
        "\n",
        "def sigmoid(x, derivative=False):\n",
        "  if derivative:\n",
        "    return x*(1-x)\n",
        "  return 1/(1+np.exp(-x))\n",
        "\n",
        "def softmax(x):\n",
        "  return np.exp(x) / np.sum(np.exp(x), axis=0)\n",
        "\n",
        "def softmax_derivative(res, y):\n",
        "  lists=[]\n",
        "  n_data = len(y[0])\n",
        "  res_copy = deepcopy(res)\n",
        "  y_copy = deepcopy(y)\n",
        "  y_transpose = y_copy.T\n",
        "  res_transpose = res_copy.T\n",
        "  for i in range(n_data):\n",
        "    target = list(y_transpose[i])\n",
        "    target_index = target.index(1)\n",
        "    res_transpose[i][target_index] = -(1-res_transpose[i][target_index])\n",
        "  return res_transpose.T \n",
        "\n",
        "####################\n",
        "# Scoring Function #\n",
        "####################\n",
        "\n",
        "from sklearn.model_selection import KFold, StratifiedKFold\n",
        "\n",
        "def cross_validation(x, y, model, learning_rate=0.1, loss=cross_entropy, \n",
        "                     batch_size=5, n_splits=5, random_state=42):\n",
        "    kf = KFold(n_splits=n_splits, random_state=random_state, shuffle=False)\n",
        "    scores = []\n",
        "    best_score = -1\n",
        "    best_model = None\n",
        "    for train_index, test_index in kf.split(x):\n",
        "      copy_model = deepcopy(model)\n",
        "      X_train, X_test = x[train_index], x[test_index]\n",
        "      y_train, y_test = y[train_index], y[test_index]\n",
        "\n",
        "      copy_model.compile(X_train, y_train, learning_rate=learning_rate, \n",
        "                         loss=loss, batch_size=batch_size)\n",
        "      copy_model.train(epochs=50)\n",
        "\n",
        "      y_pred = copy_model.predict(X_test)\n",
        "      score = accuracy_score(y_pred, y_test)\n",
        "      \n",
        "      if score >= best_score :\n",
        "        best_model = deepcopy(copy_model)\n",
        "        best_score = score\n",
        "      \n",
        "      scores.append(score)\n",
        "      \n",
        "    return {\n",
        "        \"score\" : scores,\n",
        "        \"best_model\" : best_model\n",
        "    }\n",
        "\n",
        "def confusion_matrix(y_pred, y_test):\n",
        "    isOneHot = len(y_pred[0]) == 1\n",
        "    \n",
        "    if not isOneHot:\n",
        "        ret = [[0 for i in range(len(y_pred[0]))] for i in range(len(y_pred[0]))]\n",
        "        pred, truth = y_pred.argmax(1), y_test.argmax(1)\n",
        "        for a, b in zip(pred, truth):\n",
        "            ret[a][b] += 1\n",
        "    else:\n",
        "        ret = [[0,0], [0,0]]\n",
        "        for a, b in zip(y_pred, y_test):\n",
        "            pred, truth = int(np.round(a)), int(np.round(b))\n",
        "            ret[pred][truth] += 1\n",
        "    return np.array(ret)\n",
        "\n",
        "\n",
        "\n",
        "def accuracy_score(y_pred, y_test):\n",
        "  isOneHot = len(y_pred[0]) == 1\n",
        "  if not isOneHot:\n",
        "    t_y_pred = np.zeros_like(deepcopy(y_pred))\n",
        "    t_y_pred[np.arange(len(y_pred)), y_pred.argmax(1)] = 1\n",
        "    count = 0\n",
        "    total = len(t_y_pred)\n",
        "    for i in range(total):\n",
        "      if (not np.array_equal(t_y_pred[i], y_test[i])):\n",
        "        count += 1\n",
        "    return 1 - count/total\n",
        "  else:\n",
        "    count = 0\n",
        "    total = y_pred.shape[0]\n",
        "    for a, b in zip(y_pred, y_test):\n",
        "      if np.round(a) == np.round(b):\n",
        "        count += 1\n",
        "    return count/total\n",
        "\n",
        "def precision_score(y_pred, y_test):\n",
        "  conf = np.transpose(confusion_matrix(y_pred, y_test))\n",
        "  precision = []\n",
        "  for i in range(conf.shape[0]):\n",
        "    precision.append(conf[i][i]/sum(conf[i]))\n",
        "  return np.array(precision)\n",
        "   \n",
        "def recall_score(y_pred, y_test):\n",
        "  conf = confusion_matrix(y_pred, y_test)\n",
        "  recall = []\n",
        "  for i in range(conf.shape[0]):\n",
        "    recall.append(conf[i][i]/sum(conf[i]))\n",
        "  return np.array(recall)\n",
        "\n",
        "def f1_score(y_pred, y_test):\n",
        "  precision = precision_score(y_pred, y_test)\n",
        "  recall = recall_score(y_pred, y_test)\n",
        "  f1 = []\n",
        "  for i in range(precision.shape[0]):\n",
        "    f1.append(2*((precision[i]*recall[i])/(precision[i]+recall[i])))\n",
        "  return np.array(f1)\n",
        "\n",
        "def classification_report(y_pred, y_test):\n",
        "  precision = precision_score(y_pred, y_test)\n",
        "  recall = recall_score(y_pred, y_test)\n",
        "  f1 = f1_score(y_pred, y_test)\n",
        "  df = pd.DataFrame(np.round(np.transpose([precision, recall, f1]), 3),\n",
        "                   columns=['precision', 'recall', 'f1-score'])\n",
        "  return df\n",
        "\n",
        "#######################\n",
        "# External File Utils #\n",
        "#######################\n",
        "def export_to_json(data, filename):\n",
        "  \n",
        "  class NumpyArrayEncoder(JSONEncoder):\n",
        "    def default(self, obj):\n",
        "        if isinstance(obj, np.ndarray):\n",
        "            return obj.tolist()\n",
        "        return JSONEncoder.default(self, obj)\n",
        "\n",
        "  with open(filename, \"w\") as json_file:  \n",
        "    json.dump(data, json_file, cls=NumpyArrayEncoder) \n",
        "  \n",
        "\n",
        "def import_from_json(filename):\n",
        "  with open(filename, 'r') as json_file: \n",
        "    data = json.load(json_file)\n",
        "  if data is not None : \n",
        "    return data\n",
        "  else :\n",
        "    print(\"No data found!\")\n",
        "\n",
        "def activation_func_identifier(func_name):\n",
        "  return {\n",
        "    \"sigmoid\" : sigmoid,\n",
        "    \"softmax\" : softmax,\n",
        "    \"linear\" : linear,\n",
        "    \"relu\" : relu\n",
        "  }.get(func_name)\n",
        "\n",
        "def activation_func_dump(func):\n",
        "  return {\n",
        "    sigmoid : \"sigmoid\",\n",
        "    softmax : \"softmax\",\n",
        "    linear : \"linear\",\n",
        "    relu : \"relu\"\n",
        "  }.get(func)\n",
        "\n",
        "def create_history(ann):\n",
        "  for i, hist in enumerate(ann.history):\n",
        "    if i == 0:\n",
        "      print('Input Layer')\n",
        "    else:\n",
        "      print(f'Layer {i}')\n",
        "    for j, value in enumerate(hist):\n",
        "      if i == 0:\n",
        "        print(f'    Features {j} = {value}')\n",
        "      else:\n",
        "        print(f'    σ(Out Nodes {j}) = {value}')"
      ],
      "execution_count": null,
      "outputs": []
    },
    {
      "cell_type": "markdown",
      "metadata": {
        "id": "DRY00PxYrHCG"
      },
      "source": [
        "# Artificial Neural Network Representation"
      ]
    },
    {
      "cell_type": "code",
      "metadata": {
        "id": "XxcfYVqqHLnF"
      },
      "source": [
        "class HiddenLayer():\n",
        "  \"\"\"\n",
        "  Attributes:\n",
        "    weights (np.array) -> with shape (n_nodes, n_features)\n",
        "      weights[nodes][features]\n",
        "    prev_res (np.array) -> with shape (n_features, n_data)\n",
        "      prev_res[features][n]\n",
        "    out (np.array) -> with shape (n_nodes, n_data)\n",
        "    bias (np.array) -> with shape (n_nodes)\n",
        "    activation_function (function) -> activation function for this layer\n",
        "  \n",
        "  Method:\n",
        "    calculate_out -> dot product between input and nodes weight\n",
        "  \"\"\"\n",
        "  def __init__(self, nodes, activation_function, prev_res=None):\n",
        "    \"\"\"\n",
        "    Parameters:\n",
        "      nodes (tuple(int, int)) -> Create matrix weights\n",
        "      activation_function (function) -> activation function for this layer\n",
        "      prev_res (np.array) -> with shape (n_nodes_before, n_data), first layer\n",
        "      shape is (n_features, n_data), next layer will be initialize with None\n",
        "      because no output yet from nodes before\n",
        "    \"\"\"\n",
        "    self.weights = np.random.uniform(0, 1, nodes)\n",
        "    self.out = None\n",
        "    self.prev_res = prev_res\n",
        "    self.bias = np.random.uniform(0, 1, (1, self.weights.shape[0]))\n",
        "    self.activation_function = activation_function\n",
        "\n",
        "  def calculate_out(self, prev_res):\n",
        "    \"\"\"\n",
        "    Calculate dot product between weights and inputs\n",
        "    Formula:\n",
        "      activation(Weights . value_before + bias)\n",
        "\n",
        "    Parameters:\n",
        "      prev_res (np.array) -> Input given to layer\n",
        "    \"\"\"\n",
        "    self.prev_res = prev_res\n",
        "    mult = self.weights @ self.prev_res\n",
        "    for i in range(self.weights.shape[0]):\n",
        "      mult[i] += self.bias[0][i]\n",
        "    self.out = self.activation_function(mult)\n",
        "\n",
        "  def __str__(self):\n",
        "    return f'{self.weights}'"
      ],
      "execution_count": null,
      "outputs": []
    },
    {
      "cell_type": "code",
      "metadata": {
        "id": "0hiElLD9uymD"
      },
      "source": [
        "class BuildError(Exception):\n",
        "  \"\"\"\n",
        "  Exception when build ANN\n",
        "  \"\"\"\n",
        "  def __init__(self, message):\n",
        "    super().__init__(message)"
      ],
      "execution_count": null,
      "outputs": []
    },
    {
      "cell_type": "code",
      "metadata": {
        "id": "KevsdaNmLBpp"
      },
      "source": [
        "class ANNClassifier():\n",
        "  \"\"\"\n",
        "  Attributes:\n",
        "    x (np.array) -> with shape (n_features, n_data)\n",
        "    y (np.array) -> with shape (n_data, n_class or 1)\n",
        "    learning_rate (float) -> learning_rate for training\n",
        "    metrics (function) -> metrics for evaluation\n",
        "    verbose (int) -> output message training every epoch\n",
        "    layers (list(HiddenLayer)) -> last layer is output layer\n",
        "    loss_hist (list(float)) -> loss history \n",
        "    score_hist (list(float)) -> score history\n",
        "    history (list(float)) -> input from every layer\n",
        "    \n",
        "  Method:\n",
        "    __feed_forward -> feed forward in ANN\n",
        "    __back_propagation -> back propagation in ANN\n",
        "    __create_batch -> create mini batch data\n",
        "    add -> insert layer to ANN\n",
        "    compile -> compile model\n",
        "    train -> train model\n",
        "    predict -> predict data\n",
        "    save -> saving model\n",
        "    load -> loading model\n",
        "    plot_loss -> plotting loss in train\n",
        "    plot_score -> plotting score in train\n",
        "  \"\"\"\n",
        "  def __init__(self, verbose=1):\n",
        "    self.verbose = verbose\n",
        "    self.layers = []\n",
        "    self.history = []\n",
        "    self.score_hist = []\n",
        "    self.conf_hist = []\n",
        "    self.loss_hist = []\n",
        "    \n",
        "    self.score_hist_batch = []\n",
        "    self.conf_hist_batch = []\n",
        "    self.loss_hist_batch = []\n",
        "    \n",
        "\n",
        "  def __feed_forward(self, batch):\n",
        "    \"\"\"\n",
        "    Feed Forward method used in ANN which calculate input and produce output\n",
        "    using dot product in every layer\n",
        "\n",
        "    Parameters:\n",
        "      batch (np.array) -> Used data\n",
        "\n",
        "    Formula:\n",
        "      res[0] = input\n",
        "      res[1] = activation(Weights[0] . res[0] + bias[0])\n",
        "      res[2] = activation(Weights[1] . res[1] + bias[1])\n",
        "      .\n",
        "      ..\n",
        "      ...\n",
        "      res[n] = activation(Weights[n-1] . res[n-1] + bias[n-1])\n",
        "      output = activation(Weights[n] . res[n] + bias[n])\n",
        "    \"\"\"\n",
        "    self.layers[0].prev_res = batch[0]\n",
        "    prev_res = self.layers[0].prev_res\n",
        "    for layer in self.layers:\n",
        "      layer.calculate_out(prev_res)\n",
        "      prev_res = layer.out\n",
        "  \n",
        "  def __back_propagation(self, batch):\n",
        "    \"\"\"\n",
        "    Backpropagation method\n",
        "    Step:\n",
        "      1. Calculate dE/dOut (error'(output layer))\n",
        "      2. Calculate dOut/dNet (activation'(output layer))\n",
        "      3. Calculate dNet/dW (input layer)\n",
        "      4. Calculate multiplication from dEdOut and dOutdNet\n",
        "      5. Calculate mult by multiply dEdOut with dOutdNet. If not last layer,\n",
        "         need to times mult before with dOutdNet and dot product it with\n",
        "         transpose previous layer weights\n",
        "      6. Find step using dot product between mult and transpose dNetdW (nabla)\n",
        "      7. Updating weight\n",
        "      8. Repeat until all weights updated\n",
        "    \"\"\"\n",
        "    prev_layer = deepcopy(self.layers[-1])\n",
        "\n",
        "    if (activation_func_dump(self.layers[-1].activation_function) == \"softmax\"):\n",
        "      dEdNet = softmax_derivative(self.layers[-1].out, batch[1].T)\n",
        "      mult = dEdNet\n",
        "    else:\n",
        "      dEdOut = self.loss(self.layers[-1].out, batch[1].T, derivative=True)\n",
        "      dOutdNet = self.layers[-1].activation_function(\n",
        "          self.layers[-1].out, derivative=True)\n",
        "      mult = dEdOut * dOutdNet\n",
        "\n",
        "    dNetdW = self.layers[-1].prev_res\n",
        "    nabla = mult @ dNetdW.T\n",
        "    self.layers[-1].weights -= self.learning_rate * nabla\n",
        "\n",
        "    # bias\n",
        "    x = np.matrix([[1] * self.layers[-1].bias.shape[0]] * self.layers[-1].prev_res.shape[1])\n",
        "    nabla_bias = mult @ x\n",
        "    self.layers[-1].bias -= self.learning_rate * nabla_bias.T\n",
        "    \n",
        "    for layer in np.flip(self.layers)[1:]:\n",
        "      dOutdNet = layer.activation_function(layer.out, derivative=True)\n",
        "      mult = prev_layer.weights.T @ mult * dOutdNet\n",
        "      dNetdW = layer.prev_res\n",
        "      nabla = mult @ dNetdW.T\n",
        "      prev_layer = deepcopy(layer)\n",
        "      layer.weights -= self.learning_rate * nabla\n",
        "\n",
        "      # Update bias\n",
        "      x = np.matrix([[1] * layer.bias.shape[0]] * layer.prev_res.shape[1])\n",
        "      nabla_bias = mult @ x\n",
        "      layer.bias -= self.learning_rate * nabla_bias.T\n",
        "    \n",
        "  def __create_batch(self):\n",
        "    \"\"\"\n",
        "    Create mini batch data as many as batch size\n",
        "\n",
        "    Return:\n",
        "      batches -> mini batch after splitting\n",
        "    \"\"\"\n",
        "    batches = []\n",
        "    data = self.x.T\n",
        "    n_data = data.shape[0]\n",
        "    n_batch = n_data // self.batch_size\n",
        "    total = 0\n",
        "\n",
        "    for i in range(self.batch_size):\n",
        "      start = n_batch * i\n",
        "      if i == self.batch_size - 1:\n",
        "        mini_batch = (data[start:].T, self.y[start:])\n",
        "      else:\n",
        "        end = start + n_batch\n",
        "        mini_batch = (data[start:end].T, self.y[start:end])\n",
        "        total += end-start\n",
        "      batches.append(mini_batch)\n",
        "    \n",
        "    return batches\n",
        "\n",
        "  def compile(self, \n",
        "              x, \n",
        "              y, \n",
        "              learning_rate=0.1, \n",
        "              metrics=accuracy_score, \n",
        "              loss=mse,\n",
        "              batch_size=16):\n",
        "    \"\"\"\n",
        "    Compiling model before training\n",
        "\n",
        "    Parameters:\n",
        "      x (np.array) -> input data with shape (n_features, n_data)\n",
        "      y (np.array) -> target input with shape (n_data, n_class or 1)\n",
        "      learning_rate (int) -> learning rate used for training\n",
        "      metrics (function) -> metrics used to evaluate model performance\n",
        "      loss (function) -> error function for training and evaluate model \n",
        "                         performance\n",
        "      batch_size (int) -> batch used every training\n",
        "    \n",
        "    Throws:\n",
        "      BuildError -> batch size > data size\n",
        "    \"\"\"\n",
        "    if batch_size > x.shape[0]:\n",
        "      raise BuildError(\"Input Batch Size should be < data size\")\n",
        "    if (activation_func_dump(self.layers[-1].activation_function) == 'softmax')\\\n",
        "     and (loss != cross_entropy):\n",
        "      raise BuildError(\"Softmax output layer must use cross entropy loss function\")\n",
        "\n",
        "    self.x = x.T\n",
        "    self.y = y\n",
        "    self.learning_rate = learning_rate\n",
        "    self.metrics = metrics\n",
        "    self.loss = loss\n",
        "    self.batch_size = batch_size\n",
        "\n",
        "  def train(self, epochs=5, error_threshold = 0.0001):\n",
        "    \"\"\"\n",
        "    Training model\n",
        "    Step:\n",
        "      1. Splitting batch\n",
        "      2. Feed Forward\n",
        "      3. Back Propagation (Including updating weight)\n",
        "    \"\"\"\n",
        "    self.epochs = epochs\n",
        "    batches = self.__create_batch()\n",
        "\n",
        "    for _ in range(epochs):\n",
        "      for batch in batches:\n",
        "        self.__feed_forward(batch)\n",
        "\n",
        "        out = self.layers[-1].out.T\n",
        "        error = np.sum(self.loss(out.T, batch[1].T))\n",
        "        score = self.metrics(out, batch[1])\n",
        "        conf = confusion_matrix(out, batch[1])\n",
        "        self.loss_hist_batch.append(error)\n",
        "        self.score_hist_batch.append(score)\n",
        "        self.conf_hist_batch.append(conf)\n",
        "\n",
        "        self.__back_propagation(batch)\n",
        "\n",
        "      out = self.predict(self.x, trained=True)\n",
        "      error = np.sum(self.loss(out.T, self.y.T))\n",
        "      score = self.metrics(out, self.y)\n",
        "      conf = confusion_matrix(out, self.y)\n",
        "\n",
        "      if self.verbose == 1:\n",
        "        print('Epochs {0}, loss = {1:.8f}, score = {2:.8f}'\n",
        "              .format(_+1, error, score))\n",
        "      \n",
        "      self.loss_hist.append(error)\n",
        "      self.score_hist.append(score)\n",
        "      self.conf_hist.append(conf)\n",
        "\n",
        "      if (error < error_threshold) :\n",
        "        self.epochs = _+1\n",
        "        print(f'Train Terminated because loss < loss_threshold ({error} < {error_threshold})')\n",
        "        break\n",
        "\n",
        "  def add(self, nodes, input_dim=None, activation_function=sigmoid):\n",
        "    \"\"\"\n",
        "    Add another Hidden Layer into ANNClassifier\n",
        "    \n",
        "    Parameters:\n",
        "      nodes (int) -> how many nodes in the layer\n",
        "      input_dim (int) -> dimension of input data (Used only for the first layer)\n",
        "      activation_function (function) -> what activation function used in the \n",
        "      layer\n",
        "    \"\"\"\n",
        "    if len(self.layers) == 0:\n",
        "      if (input_dim is None):\n",
        "        raise BuildError(\"This is input layer, please provide input_dim in parameter\")\n",
        "      weights_shape = (nodes, input_dim)\n",
        "      layer = HiddenLayer(weights_shape, activation_function)\n",
        "    else:\n",
        "      weights_shape = (nodes, self.layers[-1].weights.shape[0])\n",
        "      layer = HiddenLayer(weights_shape, \n",
        "                          activation_function)\n",
        "    self.layers.append(layer)\n",
        "\n",
        "  def predict(self, in_val, trained=False):\n",
        "    \"\"\"\n",
        "    Predict given data\n",
        "\n",
        "    Parameters:\n",
        "      in_val (np.array) -> with shape (n_data, n_features)\n",
        "    \n",
        "    Return:\n",
        "      prev_res -> predicted value\n",
        "    \"\"\"\n",
        "    self.history = []\n",
        "    if not trained:\n",
        "      prev_res = np.array(in_val).T\n",
        "    else:\n",
        "      prev_res = np.array(in_val)\n",
        "    for layer in self.layers:\n",
        "      self.history.append(prev_res)\n",
        "      layer.calculate_out(prev_res)\n",
        "      prev_res = layer.out\n",
        "    self.history.append(prev_res)\n",
        "    return prev_res.T\n",
        "  \n",
        "  def save(self, filename):\n",
        "    \"\"\"\n",
        "    Save layers, layers weights and activation_function\n",
        "    \"\"\"\n",
        "    layers = list(map(\n",
        "      lambda layer : {\n",
        "        \"nodes\" : layer.weights.shape[0],\n",
        "        \"weights\" : layer.weights,\n",
        "        \"bias\" : layer.bias,\n",
        "        \"activation\" : activation_func_dump(layer.activation_function)\n",
        "      }, \n",
        "      self.layers\n",
        "    ))\n",
        "\n",
        "    if (self.verbose > 1):\n",
        "      print(\"Export:\")\n",
        "      pprint(layers)\n",
        "\n",
        "    export_to_json(layers, filename)\n",
        "\n",
        "\n",
        "  def load(self, filename):\n",
        "    \"\"\"\n",
        "    Load layers, layers weights and activation function\n",
        "    \"\"\"\n",
        "    layers = import_from_json(filename)\n",
        "\n",
        "    if (self.verbose > 1):\n",
        "      print(\"Import : \")\n",
        "      pprint(layers)\n",
        "\n",
        "    for count, layer in enumerate(layers) : \n",
        "      if count == 0:\n",
        "        self.add(layer['nodes'], input_dim=len(layer['weights'][0]),\n",
        "                 activation_function=\n",
        "                 activation_func_identifier(layer['activation']))\n",
        "      else:\n",
        "        self.add(layer['nodes'], activation_function = \n",
        "                 activation_func_identifier(layer['activation']))\n",
        "      self.layers[-1].weights = np.array(layer['weights'])\n",
        "      self.layers[-1].bias = layer['bias']\n",
        "  \n",
        "  def summary(self):\n",
        "    \"\"\"\n",
        "    Summary of the model (layers, shape, params, and weight)\n",
        "    \"\"\"\n",
        "    if len(self.layers) == 0:\n",
        "      raise BuildError('You need to build the model first')\n",
        "    summary = []\n",
        "    dim = self.layers[0].weights.shape[1]\n",
        "    for count, layer in enumerate(self.layers) :\n",
        "      param = (dim + 1) * layer.weights.shape[0] \n",
        "      dim = layer.weights.shape[0]\n",
        "      summary.append({\n",
        "          'layer': f'dense_{count} (Dense)',\n",
        "          'output': layer.weights.shape[0],\n",
        "          'activation': layer.activation_function.__name__,\n",
        "          'param': param,\n",
        "          'weight': layer.weights,\n",
        "          'bias' : layer.bias\n",
        "      })\n",
        "\n",
        "    print(\"SUMMARY\")\n",
        "    print(\"====================================\")\n",
        "    print(f'Layer (Type)\\t: Input Layer')\n",
        "    print(f'Activation\\t: None')\n",
        "    print(f'Output Shape\\t: {self.layers[0].weights.shape[1]}')\n",
        "    print(f'Param\\t\\t: -')\n",
        "\n",
        "    total_param = 0\n",
        "    for layer in summary:\n",
        "      total_param += layer['param']\n",
        "      print(\"====================================\")\n",
        "      print(f'Layer (Type)\\t: {layer[\"layer\"]}')\n",
        "      print(f'Activation\\t: {layer[\"activation\"]}')\n",
        "      print(f'Output Shape\\t: {layer[\"output\"]}')\n",
        "      print(f'Param\\t\\t: {layer[\"param\"]}')\n",
        "      print(\"Weight\\t\\t:\")\n",
        "      for count, weight in enumerate(layer[\"weight\"]):\n",
        "        print(f'\\tnode_{count} {weight}')\n",
        "      print(f'\\tbias {layer[\"bias\"][0]}')\n",
        "    \n",
        "    print(\"====================================\")\n",
        "    print(f\"Total params : {total_param}\")\n",
        "\n",
        "  def plot_loss(self):\n",
        "    plt.plot(range(self.epochs), self.loss_hist, color = 'r')\n",
        "    plt.ylabel('error')\n",
        "    plt.xlabel('epochs')\n",
        "    plt.title('Error')\n",
        "    plt.show()\n",
        "\n",
        "  def plot_score(self):\n",
        "    plt.plot(range(self.epochs), self.score_hist, color = 'r')\n",
        "    plt.ylabel('scores')\n",
        "    plt.xlabel('epochs')\n",
        "    plt.title('Score')\n",
        "    plt.show()\n",
        "\n",
        "  def plot_loss_batch(self):\n",
        "    plt.plot(range(self.epochs * self.batch_size), self.loss_hist_batch, color = 'r')\n",
        "    plt.ylabel('error')\n",
        "    plt.xlabel('batches')\n",
        "    plt.title('Error')\n",
        "    plt.show()\n",
        "\n",
        "  def plot_score_batch(self):\n",
        "    plt.plot(range(self.epochs * self.batch_size), self.score_hist_batch, color = 'r')\n",
        "    plt.ylabel('error')\n",
        "    plt.xlabel('batches')\n",
        "    plt.title('Score')\n",
        "    plt.show()\n",
        "\n",
        "  def plot(self, figsize=(12,10)):\n",
        "    fig, ax = plt.subplots(2, 2, figsize=figsize)\n",
        "    plot_data = [(range(self.epochs), self.score_hist),\n",
        "                 (range(self.epochs), self.loss_hist),\n",
        "                 (range(self.epochs * self.batch_size), self.score_hist_batch),\n",
        "                 (range(self.epochs * self.batch_size), self.loss_hist_batch)]\n",
        "    titles = ['Score Every Epochs',\n",
        "              'Loss Every Epochs',\n",
        "              'Score Every Batch',\n",
        "              'Loss Every Batch']\n",
        "    xlabels = ['epochs', 'epochs', 'batches', 'batches']\n",
        "    ylabels = ['scores', 'error', 'scores', 'error']\n",
        "\n",
        "    c = 0\n",
        "    for i in range(2):\n",
        "        for j in range(2):\n",
        "            x = plot_data[c][0]\n",
        "            y = plot_data[c][1]\n",
        "            title = titles[c]\n",
        "            xlab = xlabels[c]\n",
        "            ylab = ylabels[c]\n",
        "            c += 1\n",
        "\n",
        "            ax[i][j].plot(x, y, color='r')\n",
        "            ax[i][j].set_ylabel(ylab)\n",
        "            ax[i][j].set_xlabel(xlab)\n",
        "            ax[i][j].set_title(title)\n",
        "    \n",
        "    plt.show()\n",
        "\n",
        "  def get_init_weights(self):\n",
        "    if len(self.layers) == 0:\n",
        "      raise BuildError('You need to build the model first')\n",
        "    \n",
        "    init_weights= []\n",
        "    for layer_number in range (len(model.layers)):\n",
        "      weights = []\n",
        "      for idx, weights_in_node in enumerate(self.layers[layer_number].weights):\n",
        "        count=0\n",
        "        while (count < len(weights_in_node)):\n",
        "          if (idx == 0):\n",
        "            weights.append([weights_in_node[count]])\n",
        "          else:\n",
        "            weights[count].append(weights_in_node[count])\n",
        "          count = count+1\n",
        "      bias = self.layers[layer_number].bias[0].copy() \n",
        "      init_weights.append([np.array(weights), bias])\n",
        "      \n",
        "    return init_weights"
      ],
      "execution_count": null,
      "outputs": []
    },
    {
      "cell_type": "markdown",
      "metadata": {
        "id": "6VWruYRl9hjc"
      },
      "source": [
        "# Testing\n",
        "---\n",
        "Pada tahap ini, kami melakukan pengujian ANN yang berhasil kami susun dengan data uji, yaitu Iris Dataset"
      ]
    },
    {
      "cell_type": "markdown",
      "metadata": {
        "id": "dXOdaOoXqhsF"
      },
      "source": [
        "## Testing skema split train dan test 9:1"
      ]
    },
    {
      "cell_type": "code",
      "metadata": {
        "id": "GIH1tNcyss6c"
      },
      "source": [
        "from sklearn.datasets import load_iris\n",
        "\n",
        "iris_dataset = load_iris()\n",
        "x = iris_dataset['data']\n",
        "y = iris_dataset['target']\n",
        "b = one_hot_encoder(y)"
      ],
      "execution_count": null,
      "outputs": []
    },
    {
      "cell_type": "code",
      "metadata": {
        "id": "03qTUbKUs1XL"
      },
      "source": [
        "from sklearn.preprocessing import StandardScaler\n",
        "scale = StandardScaler()\n",
        "x = scale.fit_transform(x)"
      ],
      "execution_count": null,
      "outputs": []
    },
    {
      "cell_type": "code",
      "metadata": {
        "id": "gTE2VJwhOzRq"
      },
      "source": [
        "from sklearn.model_selection import train_test_split\n",
        "X_train, X_test, y_train, y_test = train_test_split(x, b, test_size=0.1, random_state=42)"
      ],
      "execution_count": null,
      "outputs": []
    },
    {
      "cell_type": "code",
      "metadata": {
        "id": "0Nn9kFNIs4lc"
      },
      "source": [
        "model = ANNClassifier()\n",
        "model.add(4, input_dim=x.shape[1], activation_function=sigmoid)\n",
        "model.add(3, activation_function=softmax)"
      ],
      "execution_count": null,
      "outputs": []
    },
    {
      "cell_type": "code",
      "metadata": {
        "colab": {
          "base_uri": "https://localhost:8080/"
        },
        "id": "92chuivss75v",
        "outputId": "67d22037-5b0c-4c4a-eaf9-46e1eb5a4a80"
      },
      "source": [
        "model.summary()"
      ],
      "execution_count": null,
      "outputs": [
        {
          "output_type": "stream",
          "text": [
            "SUMMARY\n",
            "====================================\n",
            "Layer (Type)\t: Input Layer\n",
            "Activation\t: None\n",
            "Output Shape\t: 4\n",
            "Param\t\t: -\n",
            "====================================\n",
            "Layer (Type)\t: dense_0 (Dense)\n",
            "Activation\t: sigmoid\n",
            "Output Shape\t: 4\n",
            "Param\t\t: 20\n",
            "Weight\t\t:\n",
            "\tnode_0 [0.13378786 0.38473597 0.92778004 0.63625414]\n",
            "\tnode_1 [0.12966228 0.97895407 0.35997219 0.49783982]\n",
            "\tnode_2 [0.67473342 0.63030421 0.0076957  0.81499641]\n",
            "\tnode_3 [0.76961493 0.3755498  0.88606124 0.37372862]\n",
            "\tbias [0.9107342  0.55495462 0.99900927 0.05449325]\n",
            "====================================\n",
            "Layer (Type)\t: dense_1 (Dense)\n",
            "Activation\t: softmax\n",
            "Output Shape\t: 3\n",
            "Param\t\t: 15\n",
            "Weight\t\t:\n",
            "\tnode_0 [0.47902624 0.7122196  0.01305793 0.04267831]\n",
            "\tnode_1 [0.50931913 0.73111243 0.94054225 0.8401763 ]\n",
            "\tnode_2 [0.23769094 0.84660119 0.68140272 0.99688634]\n",
            "\tbias [0.48660575 0.98922926 0.99000271]\n",
            "====================================\n",
            "Total params : 35\n"
          ],
          "name": "stdout"
        }
      ]
    },
    {
      "cell_type": "code",
      "metadata": {
        "id": "oIzqxhlJs9zJ",
        "colab": {
          "base_uri": "https://localhost:8080/"
        },
        "outputId": "27be2c04-501f-4060-93ec-e0abc4489dab"
      },
      "source": [
        "model.compile(X_train, y_train, learning_rate=0.1, loss=cross_entropy, batch_size=5)\n",
        "model.train(epochs=50)"
      ],
      "execution_count": null,
      "outputs": [
        {
          "output_type": "stream",
          "text": [
            "Epochs 1, loss = 87.74753910, score = 0.63703704\n",
            "Epochs 2, loss = 46.93718742, score = 0.67407407\n",
            "Epochs 3, loss = 31.19243273, score = 0.65185185\n",
            "Epochs 4, loss = 55.14337367, score = 0.67407407\n",
            "Epochs 5, loss = 30.37897517, score = 0.72592593\n",
            "Epochs 6, loss = 14.51962601, score = 0.94074074\n",
            "Epochs 7, loss = 12.95738737, score = 0.94074074\n",
            "Epochs 8, loss = 10.25607208, score = 0.97037037\n",
            "Epochs 9, loss = 8.87226625, score = 0.97037037\n",
            "Epochs 10, loss = 7.81127502, score = 0.97037037\n",
            "Epochs 11, loss = 7.03130600, score = 0.97037037\n",
            "Epochs 12, loss = 6.44915686, score = 0.97037037\n",
            "Epochs 13, loss = 6.00795997, score = 0.97037037\n",
            "Epochs 14, loss = 5.66619217, score = 0.97037037\n",
            "Epochs 15, loss = 5.39439157, score = 0.97037037\n",
            "Epochs 16, loss = 5.17212370, score = 0.97037037\n",
            "Epochs 17, loss = 4.98570799, score = 0.97037037\n",
            "Epochs 18, loss = 4.82622943, score = 0.97037037\n",
            "Epochs 19, loss = 4.68784753, score = 0.97037037\n",
            "Epochs 20, loss = 4.56655661, score = 0.97037037\n",
            "Epochs 21, loss = 4.45941797, score = 0.97777778\n",
            "Epochs 22, loss = 4.36414701, score = 0.97777778\n",
            "Epochs 23, loss = 4.27890766, score = 0.97777778\n",
            "Epochs 24, loss = 4.20220497, score = 0.97777778\n",
            "Epochs 25, loss = 4.13281759, score = 0.97777778\n",
            "Epochs 26, loss = 4.06974580, score = 0.97777778\n",
            "Epochs 27, loss = 4.01216798, score = 0.97777778\n",
            "Epochs 28, loss = 3.95940389, score = 0.97777778\n",
            "Epochs 29, loss = 3.91088476, score = 0.97777778\n",
            "Epochs 30, loss = 3.86612963, score = 0.97777778\n",
            "Epochs 31, loss = 3.82472710, score = 0.97777778\n",
            "Epochs 32, loss = 3.78632149, score = 0.97777778\n",
            "Epochs 33, loss = 3.75060239, score = 0.97777778\n",
            "Epochs 34, loss = 3.71729677, score = 0.97777778\n",
            "Epochs 35, loss = 3.68616297, score = 0.97037037\n",
            "Epochs 36, loss = 3.65698607, score = 0.97037037\n",
            "Epochs 37, loss = 3.62957427, score = 0.97037037\n",
            "Epochs 38, loss = 3.60375600, score = 0.97037037\n",
            "Epochs 39, loss = 3.57937763, score = 0.97037037\n",
            "Epochs 40, loss = 3.55630150, score = 0.97037037\n",
            "Epochs 41, loss = 3.53440437, score = 0.97037037\n",
            "Epochs 42, loss = 3.51357605, score = 0.97037037\n",
            "Epochs 43, loss = 3.49371819, score = 0.97037037\n",
            "Epochs 44, loss = 3.47474330, score = 0.97037037\n",
            "Epochs 45, loss = 3.45657377, score = 0.97037037\n",
            "Epochs 46, loss = 3.43914105, score = 0.97037037\n",
            "Epochs 47, loss = 3.42238484, score = 0.97037037\n",
            "Epochs 48, loss = 3.40625237, score = 0.97037037\n",
            "Epochs 49, loss = 3.39069770, score = 0.97037037\n",
            "Epochs 50, loss = 3.37568106, score = 0.97037037\n"
          ],
          "name": "stdout"
        }
      ]
    },
    {
      "cell_type": "code",
      "metadata": {
        "id": "kfM2L2Qo5EgK",
        "colab": {
          "base_uri": "https://localhost:8080/"
        },
        "outputId": "6f8cf17e-3c4e-4619-de3b-f2345469eb9b"
      },
      "source": [
        "y_pred = model.predict(X_test)\n",
        "accuracy_score(y_pred, y_test)"
      ],
      "execution_count": null,
      "outputs": [
        {
          "output_type": "execute_result",
          "data": {
            "text/plain": [
              "0.9333333333333333"
            ]
          },
          "metadata": {
            "tags": []
          },
          "execution_count": 84
        }
      ]
    },
    {
      "cell_type": "code",
      "metadata": {
        "colab": {
          "base_uri": "https://localhost:8080/"
        },
        "id": "XJrjxVt-PFaY",
        "outputId": "2ecae856-f648-484f-95f4-7fd16af62c29"
      },
      "source": [
        "confusion_matrix(y_pred, y_test)"
      ],
      "execution_count": null,
      "outputs": [
        {
          "output_type": "execute_result",
          "data": {
            "text/plain": [
              "array([[6, 0, 0],\n",
              "       [0, 5, 0],\n",
              "       [0, 1, 3]])"
            ]
          },
          "metadata": {
            "tags": []
          },
          "execution_count": 85
        }
      ]
    },
    {
      "cell_type": "code",
      "metadata": {
        "colab": {
          "base_uri": "https://localhost:8080/",
          "height": 136
        },
        "id": "bd4L7h2tQH2j",
        "outputId": "de53b937-d988-4350-e964-a0cf3d3f538f"
      },
      "source": [
        "classification_report(y_pred, y_test)"
      ],
      "execution_count": null,
      "outputs": [
        {
          "output_type": "execute_result",
          "data": {
            "text/html": [
              "<div>\n",
              "<style scoped>\n",
              "    .dataframe tbody tr th:only-of-type {\n",
              "        vertical-align: middle;\n",
              "    }\n",
              "\n",
              "    .dataframe tbody tr th {\n",
              "        vertical-align: top;\n",
              "    }\n",
              "\n",
              "    .dataframe thead th {\n",
              "        text-align: right;\n",
              "    }\n",
              "</style>\n",
              "<table border=\"1\" class=\"dataframe\">\n",
              "  <thead>\n",
              "    <tr style=\"text-align: right;\">\n",
              "      <th></th>\n",
              "      <th>precision</th>\n",
              "      <th>recall</th>\n",
              "      <th>f1-score</th>\n",
              "    </tr>\n",
              "  </thead>\n",
              "  <tbody>\n",
              "    <tr>\n",
              "      <th>0</th>\n",
              "      <td>1.000</td>\n",
              "      <td>1.00</td>\n",
              "      <td>1.000</td>\n",
              "    </tr>\n",
              "    <tr>\n",
              "      <th>1</th>\n",
              "      <td>0.833</td>\n",
              "      <td>1.00</td>\n",
              "      <td>0.909</td>\n",
              "    </tr>\n",
              "    <tr>\n",
              "      <th>2</th>\n",
              "      <td>1.000</td>\n",
              "      <td>0.75</td>\n",
              "      <td>0.857</td>\n",
              "    </tr>\n",
              "  </tbody>\n",
              "</table>\n",
              "</div>"
            ],
            "text/plain": [
              "   precision  recall  f1-score\n",
              "0      1.000    1.00     1.000\n",
              "1      0.833    1.00     0.909\n",
              "2      1.000    0.75     0.857"
            ]
          },
          "metadata": {
            "tags": []
          },
          "execution_count": 86
        }
      ]
    },
    {
      "cell_type": "code",
      "metadata": {
        "colab": {
          "base_uri": "https://localhost:8080/",
          "height": 621
        },
        "id": "moRD--1Db1H1",
        "outputId": "6796919e-d35a-4a32-8877-b2b96744891d"
      },
      "source": [
        "model.plot()"
      ],
      "execution_count": null,
      "outputs": [
        {
          "output_type": "display_data",
          "data": {
            "image/png": "[encoded data removed]",
            "text/plain": [
              "<Figure size 864x720 with 4 Axes>"
            ]
          },
          "metadata": {
            "tags": [],
            "needs_background": "light"
          }
        }
      ]
    },
    {
      "cell_type": "markdown",
      "metadata": {
        "id": "ia7ibIDtty-F"
      },
      "source": [
        "## Testing skema 10-fold cross validation"
      ]
    },
    {
      "cell_type": "code",
      "metadata": {
        "colab": {
          "base_uri": "https://localhost:8080/"
        },
        "id": "MPRg05Zct1Rb",
        "outputId": "1cc66a4d-8b9b-459c-cd5b-a7ca8cea1bdf"
      },
      "source": [
        "# Current KFold = 10\n",
        "k = 10\n",
        "\n",
        "cross_val_model = ANNClassifier()\n",
        "cross_val_model.add(4, input_dim=x.shape[1], activation_function=sigmoid)\n",
        "cross_val_model.add(3, activation_function=softmax)\n",
        "\n",
        "results = cross_validation(X_train, y_train, cross_val_model, learning_rate=0.1,\n",
        "                           loss=cross_entropy, batch_size=5, n_splits=k)\n",
        "best_model = results[\"best_model\"]"
      ],
      "execution_count": null,
      "outputs": [
        {
          "output_type": "stream",
          "text": [
            "Epochs 1, loss = 53.63295648, score = 0.50413223\n",
            "Epochs 2, loss = 37.84947105, score = 0.66115702\n",
            "Epochs 3, loss = 25.87650624, score = 0.77685950\n",
            "Epochs 4, loss = 22.55948481, score = 0.80165289\n",
            "Epochs 5, loss = 20.88710160, score = 0.81818182\n",
            "Epochs 6, loss = 17.82381754, score = 0.85123967\n",
            "Epochs 7, loss = 14.35291546, score = 0.87603306\n",
            "Epochs 8, loss = 11.78059139, score = 0.91735537\n",
            "Epochs 9, loss = 10.01386613, score = 0.95041322\n",
            "Epochs 10, loss = 8.71074462, score = 0.96694215\n",
            "Epochs 11, loss = 7.72726516, score = 0.96694215\n",
            "Epochs 12, loss = 6.98576160, score = 0.96694215\n",
            "Epochs 13, loss = 6.42137810, score = 0.96694215\n",
            "Epochs 14, loss = 5.98306337, score = 0.96694215\n",
            "Epochs 15, loss = 5.63498827, score = 0.96694215\n",
            "Epochs 16, loss = 5.35294771, score = 0.96694215\n",
            "Epochs 17, loss = 5.12047447, score = 0.96694215\n",
            "Epochs 18, loss = 4.92610828, score = 0.96694215\n",
            "Epochs 19, loss = 4.76165684, score = 0.96694215\n",
            "Epochs 20, loss = 4.62110464, score = 0.96694215\n",
            "Epochs 21, loss = 4.49992224, score = 0.96694215\n",
            "Epochs 22, loss = 4.39462163, score = 0.96694215\n",
            "Epochs 23, loss = 4.30246379, score = 0.96694215\n",
            "Epochs 24, loss = 4.22126196, score = 0.96694215\n",
            "Epochs 25, loss = 4.14924596, score = 0.96694215\n",
            "Epochs 26, loss = 4.08496640, score = 0.96694215\n",
            "Epochs 27, loss = 4.02722549, score = 0.96694215\n",
            "Epochs 28, loss = 3.97502610, score = 0.96694215\n",
            "Epochs 29, loss = 3.92753341, score = 0.96694215\n",
            "Epochs 30, loss = 3.88404560, score = 0.96694215\n",
            "Epochs 31, loss = 3.84397107, score = 0.96694215\n",
            "Epochs 32, loss = 3.80681041, score = 0.97520661\n",
            "Epochs 33, loss = 3.77214184, score = 0.97520661\n",
            "Epochs 34, loss = 3.73960940, score = 0.97520661\n",
            "Epochs 35, loss = 3.70891311, score = 0.97520661\n",
            "Epochs 36, loss = 3.67980074, score = 0.97520661\n",
            "Epochs 37, loss = 3.65206080, score = 0.97520661\n",
            "Epochs 38, loss = 3.62551659, score = 0.97520661\n",
            "Epochs 39, loss = 3.60002101, score = 0.97520661\n",
            "Epochs 40, loss = 3.57545215, score = 0.97520661\n",
            "Epochs 41, loss = 3.55170943, score = 0.97520661\n",
            "Epochs 42, loss = 3.52871025, score = 0.97520661\n",
            "Epochs 43, loss = 3.50638716, score = 0.97520661\n",
            "Epochs 44, loss = 3.48468529, score = 0.97520661\n",
            "Epochs 45, loss = 3.46356031, score = 0.97520661\n",
            "Epochs 46, loss = 3.44297651, score = 0.97520661\n",
            "Epochs 47, loss = 3.42290531, score = 0.97520661\n",
            "Epochs 48, loss = 3.40332388, score = 0.97520661\n",
            "Epochs 49, loss = 3.38421404, score = 0.97520661\n",
            "Epochs 50, loss = 3.36556131, score = 0.96694215\n",
            "Epochs 1, loss = 84.78644005, score = 0.47933884\n",
            "Epochs 2, loss = 52.62421704, score = 0.66942149\n",
            "Epochs 3, loss = 35.09078307, score = 0.71900826\n",
            "Epochs 4, loss = 28.54168787, score = 0.78512397\n",
            "Epochs 5, loss = 25.90688909, score = 0.79338843\n",
            "Epochs 6, loss = 22.19221978, score = 0.80991736\n",
            "Epochs 7, loss = 17.91086048, score = 0.85950413\n",
            "Epochs 8, loss = 14.33909186, score = 0.87603306\n",
            "Epochs 9, loss = 11.86418883, score = 0.90909091\n",
            "Epochs 10, loss = 10.18859055, score = 0.94214876\n",
            "Epochs 11, loss = 8.99873321, score = 0.95041322\n",
            "Epochs 12, loss = 8.11669705, score = 0.96694215\n",
            "Epochs 13, loss = 7.44164937, score = 0.96694215\n",
            "Epochs 14, loss = 6.91161147, score = 0.96694215\n",
            "Epochs 15, loss = 6.48635702, score = 0.96694215\n",
            "Epochs 16, loss = 6.13885086, score = 0.96694215\n",
            "Epochs 17, loss = 5.85040819, score = 0.96694215\n",
            "Epochs 18, loss = 5.60778357, score = 0.96694215\n",
            "Epochs 19, loss = 5.40135892, score = 0.96694215\n",
            "Epochs 20, loss = 5.22398704, score = 0.96694215\n",
            "Epochs 21, loss = 5.07023961, score = 0.96694215\n",
            "Epochs 22, loss = 4.93591060, score = 0.96694215\n",
            "Epochs 23, loss = 4.81768325, score = 0.96694215\n",
            "Epochs 24, loss = 4.71290289, score = 0.96694215\n",
            "Epochs 25, loss = 4.61941854, score = 0.96694215\n",
            "Epochs 26, loss = 4.53547011, score = 0.96694215\n",
            "Epochs 27, loss = 4.45960587, score = 0.96694215\n",
            "Epochs 28, loss = 4.39062098, score = 0.96694215\n",
            "Epochs 29, loss = 4.32751055, score = 0.96694215\n",
            "Epochs 30, loss = 4.26943322, score = 0.96694215\n",
            "Epochs 31, loss = 4.21568261, score = 0.96694215\n",
            "Epochs 32, loss = 4.16566445, score = 0.96694215\n",
            "Epochs 33, loss = 4.11887819, score = 0.96694215\n",
            "Epochs 34, loss = 4.07490204, score = 0.96694215\n",
            "Epochs 35, loss = 4.03338061, score = 0.96694215\n",
            "Epochs 36, loss = 3.99401474, score = 0.96694215\n",
            "Epochs 37, loss = 3.95655290, score = 0.97520661\n",
            "Epochs 38, loss = 3.92078398, score = 0.97520661\n",
            "Epochs 39, loss = 3.88653117, score = 0.97520661\n",
            "Epochs 40, loss = 3.85364673, score = 0.97520661\n",
            "Epochs 41, loss = 3.82200752, score = 0.97520661\n",
            "Epochs 42, loss = 3.79151115, score = 0.97520661\n",
            "Epochs 43, loss = 3.76207265, score = 0.97520661\n",
            "Epochs 44, loss = 3.73362165, score = 0.97520661\n",
            "Epochs 45, loss = 3.70609993, score = 0.97520661\n",
            "Epochs 46, loss = 3.67945933, score = 0.97520661\n",
            "Epochs 47, loss = 3.65365993, score = 0.97520661\n",
            "Epochs 48, loss = 3.62866857, score = 0.97520661\n",
            "Epochs 49, loss = 3.60445753, score = 0.97520661\n",
            "Epochs 50, loss = 3.58100346, score = 0.97520661\n",
            "Epochs 1, loss = 90.63226383, score = 0.38842975\n",
            "Epochs 2, loss = 74.64680869, score = 0.67768595\n",
            "Epochs 3, loss = 68.00391782, score = 0.67768595\n",
            "Epochs 4, loss = 52.05753225, score = 0.67768595\n",
            "Epochs 5, loss = 35.59844755, score = 0.71900826\n",
            "Epochs 6, loss = 20.64379083, score = 0.81818182\n",
            "Epochs 7, loss = 13.87057286, score = 0.88429752\n",
            "Epochs 8, loss = 11.21987911, score = 0.92561983\n",
            "Epochs 9, loss = 9.45309141, score = 0.95867769\n",
            "Epochs 10, loss = 8.21120525, score = 0.96694215\n",
            "Epochs 11, loss = 7.31163809, score = 0.96694215\n",
            "Epochs 12, loss = 6.63821241, score = 0.96694215\n",
            "Epochs 13, loss = 6.11896314, score = 0.96694215\n",
            "Epochs 14, loss = 5.70875103, score = 0.96694215\n",
            "Epochs 15, loss = 5.37825145, score = 0.96694215\n",
            "Epochs 16, loss = 5.10766706, score = 0.96694215\n",
            "Epochs 17, loss = 4.88316275, score = 0.96694215\n",
            "Epochs 18, loss = 4.69477774, score = 0.96694215\n",
            "Epochs 19, loss = 4.53515398, score = 0.96694215\n",
            "Epochs 20, loss = 4.39873352, score = 0.96694215\n",
            "Epochs 21, loss = 4.28123585, score = 0.96694215\n",
            "Epochs 22, loss = 4.17930793, score = 0.96694215\n",
            "Epochs 23, loss = 4.09028407, score = 0.96694215\n",
            "Epochs 24, loss = 4.01201737, score = 0.96694215\n",
            "Epochs 25, loss = 3.94275908, score = 0.96694215\n",
            "Epochs 26, loss = 3.88107065, score = 0.96694215\n",
            "Epochs 27, loss = 3.82575864, score = 0.96694215\n",
            "Epochs 28, loss = 3.77582593, score = 0.96694215\n",
            "Epochs 29, loss = 3.73043452, score = 0.96694215\n",
            "Epochs 30, loss = 3.68887696, score = 0.96694215\n",
            "Epochs 31, loss = 3.65055411, score = 0.96694215\n",
            "Epochs 32, loss = 3.61495750, score = 0.96694215\n",
            "Epochs 33, loss = 3.58165529, score = 0.96694215\n",
            "Epochs 34, loss = 3.55028078, score = 0.96694215\n",
            "Epochs 35, loss = 3.52052307, score = 0.96694215\n",
            "Epochs 36, loss = 3.49211914, score = 0.96694215\n",
            "Epochs 37, loss = 3.46484721, score = 0.96694215\n",
            "Epochs 38, loss = 3.43852108, score = 0.97520661\n",
            "Epochs 39, loss = 3.41298520, score = 0.97520661\n",
            "Epochs 40, loss = 3.38811041, score = 0.97520661\n",
            "Epochs 41, loss = 3.36379016, score = 0.97520661\n",
            "Epochs 42, loss = 3.33993732, score = 0.97520661\n",
            "Epochs 43, loss = 3.31648125, score = 0.97520661\n",
            "Epochs 44, loss = 3.29336530, score = 0.97520661\n",
            "Epochs 45, loss = 3.27054458, score = 0.97520661\n",
            "Epochs 46, loss = 3.24798410, score = 0.97520661\n",
            "Epochs 47, loss = 3.22565705, score = 0.97520661\n",
            "Epochs 48, loss = 3.20354336, score = 0.97520661\n",
            "Epochs 49, loss = 3.18162846, score = 0.97520661\n",
            "Epochs 50, loss = 3.15990224, score = 0.97520661\n",
            "Epochs 1, loss = 92.06547510, score = 0.40495868\n",
            "Epochs 2, loss = 80.20428615, score = 0.66942149\n",
            "Epochs 3, loss = 68.20682958, score = 0.66942149\n",
            "Epochs 4, loss = 53.06152236, score = 0.66942149\n",
            "Epochs 5, loss = 38.83120328, score = 0.71074380\n",
            "Epochs 6, loss = 22.76559917, score = 0.80165289\n",
            "Epochs 7, loss = 14.02324929, score = 0.88429752\n",
            "Epochs 8, loss = 11.30435325, score = 0.94214876\n",
            "Epochs 9, loss = 9.58279529, score = 0.96694215\n",
            "Epochs 10, loss = 8.37378133, score = 0.96694215\n",
            "Epochs 11, loss = 7.49394771, score = 0.96694215\n",
            "Epochs 12, loss = 6.83090884, score = 0.96694215\n",
            "Epochs 13, loss = 6.31663112, score = 0.96694215\n",
            "Epochs 14, loss = 5.90858263, score = 0.96694215\n",
            "Epochs 15, loss = 5.57894433, score = 0.96694215\n",
            "Epochs 16, loss = 5.30871725, score = 0.96694215\n",
            "Epochs 17, loss = 5.08444528, score = 0.96694215\n",
            "Epochs 18, loss = 4.89630923, score = 0.96694215\n",
            "Epochs 19, loss = 4.73696673, score = 0.96694215\n",
            "Epochs 20, loss = 4.60081724, score = 0.96694215\n",
            "Epochs 21, loss = 4.48351911, score = 0.96694215\n",
            "Epochs 22, loss = 4.38166189, score = 0.96694215\n",
            "Epochs 23, loss = 4.29253697, score = 0.96694215\n",
            "Epochs 24, loss = 4.21397307, score = 0.96694215\n",
            "Epochs 25, loss = 4.14421570, score = 0.96694215\n",
            "Epochs 26, loss = 4.08183710, score = 0.96694215\n",
            "Epochs 27, loss = 4.02566840, score = 0.96694215\n",
            "Epochs 28, loss = 3.97474753, score = 0.96694215\n",
            "Epochs 29, loss = 3.92827917, score = 0.96694215\n",
            "Epochs 30, loss = 3.88560343, score = 0.96694215\n",
            "Epochs 31, loss = 3.84617125, score = 0.97520661\n",
            "Epochs 32, loss = 3.80952482, score = 0.97520661\n",
            "Epochs 33, loss = 3.77528187, score = 0.97520661\n",
            "Epochs 34, loss = 3.74312301, score = 0.97520661\n",
            "Epochs 35, loss = 3.71278127, score = 0.97520661\n",
            "Epochs 36, loss = 3.68403354, score = 0.97520661\n",
            "Epochs 37, loss = 3.65669347, score = 0.97520661\n",
            "Epochs 38, loss = 3.63060550, score = 0.97520661\n",
            "Epochs 39, loss = 3.60563985, score = 0.97520661\n",
            "Epochs 40, loss = 3.58168834, score = 0.97520661\n",
            "Epochs 41, loss = 3.55866079, score = 0.97520661\n",
            "Epochs 42, loss = 3.53648206, score = 0.97520661\n",
            "Epochs 43, loss = 3.51508947, score = 0.97520661\n",
            "Epochs 44, loss = 3.49443069, score = 0.96694215\n",
            "Epochs 45, loss = 3.47446191, score = 0.96694215\n",
            "Epochs 46, loss = 3.45514635, score = 0.96694215\n",
            "Epochs 47, loss = 3.43645294, score = 0.96694215\n",
            "Epochs 48, loss = 3.41835531, score = 0.96694215\n",
            "Epochs 49, loss = 3.40083085, score = 0.96694215\n",
            "Epochs 50, loss = 3.38386003, score = 0.96694215\n",
            "Epochs 1, loss = 91.13905486, score = 0.42975207\n",
            "Epochs 2, loss = 75.32124172, score = 0.68595041\n",
            "Epochs 3, loss = 62.61734506, score = 0.68595041\n",
            "Epochs 4, loss = 49.14747401, score = 0.68595041\n",
            "Epochs 5, loss = 36.99384091, score = 0.71900826\n",
            "Epochs 6, loss = 23.42460747, score = 0.76033058\n",
            "Epochs 7, loss = 14.69657227, score = 0.86776860\n",
            "Epochs 8, loss = 11.06849013, score = 0.92561983\n",
            "Epochs 9, loss = 9.04107041, score = 0.95867769\n",
            "Epochs 10, loss = 7.73106197, score = 0.97520661\n",
            "Epochs 11, loss = 6.82072332, score = 0.97520661\n",
            "Epochs 12, loss = 6.15272839, score = 0.97520661\n",
            "Epochs 13, loss = 5.64290489, score = 0.97520661\n",
            "Epochs 14, loss = 5.24236816, score = 0.97520661\n",
            "Epochs 15, loss = 4.92057504, score = 0.97520661\n",
            "Epochs 16, loss = 4.65732904, score = 0.97520661\n",
            "Epochs 17, loss = 4.43869432, score = 0.97520661\n",
            "Epochs 18, loss = 4.25473671, score = 0.97520661\n",
            "Epochs 19, loss = 4.09818977, score = 0.97520661\n",
            "Epochs 20, loss = 3.96362473, score = 0.97520661\n",
            "Epochs 21, loss = 3.84691242, score = 0.97520661\n",
            "Epochs 22, loss = 3.74486289, score = 0.97520661\n",
            "Epochs 23, loss = 3.65497771, score = 0.97520661\n",
            "Epochs 24, loss = 3.57527590, score = 0.97520661\n",
            "Epochs 25, loss = 3.50416931, score = 0.97520661\n",
            "Epochs 26, loss = 3.44037194, score = 0.97520661\n",
            "Epochs 27, loss = 3.38283291, score = 0.97520661\n",
            "Epochs 28, loss = 3.33068639, score = 0.97520661\n",
            "Epochs 29, loss = 3.28321355, score = 0.97520661\n",
            "Epochs 30, loss = 3.23981347, score = 0.97520661\n",
            "Epochs 31, loss = 3.19998060, score = 0.97520661\n",
            "Epochs 32, loss = 3.16328710, score = 0.97520661\n",
            "Epochs 33, loss = 3.12936891, score = 0.97520661\n",
            "Epochs 34, loss = 3.09791472, score = 0.97520661\n",
            "Epochs 35, loss = 3.06865701, score = 0.97520661\n",
            "Epochs 36, loss = 3.04136489, score = 0.97520661\n",
            "Epochs 37, loss = 3.01583826, score = 0.97520661\n",
            "Epochs 38, loss = 2.99190298, score = 0.97520661\n",
            "Epochs 39, loss = 2.96940698, score = 0.97520661\n",
            "Epochs 40, loss = 2.94821691, score = 0.97520661\n",
            "Epochs 41, loss = 2.92821547, score = 0.98347107\n",
            "Epochs 42, loss = 2.90929913, score = 0.98347107\n",
            "Epochs 43, loss = 2.89137619, score = 0.98347107\n",
            "Epochs 44, loss = 2.87436518, score = 0.98347107\n",
            "Epochs 45, loss = 2.85819349, score = 0.98347107\n",
            "Epochs 46, loss = 2.84279620, score = 0.98347107\n",
            "Epochs 47, loss = 2.82811511, score = 0.98347107\n",
            "Epochs 48, loss = 2.81409787, score = 0.97520661\n",
            "Epochs 49, loss = 2.80069725, score = 0.97520661\n",
            "Epochs 50, loss = 2.78787053, score = 0.97520661\n",
            "Epochs 1, loss = 94.20101360, score = 0.40983607\n",
            "Epochs 2, loss = 77.08433591, score = 0.67213115\n",
            "Epochs 3, loss = 65.93466967, score = 0.67213115\n",
            "Epochs 4, loss = 50.93638321, score = 0.67213115\n",
            "Epochs 5, loss = 38.21826309, score = 0.70491803\n",
            "Epochs 6, loss = 24.37763122, score = 0.75409836\n",
            "Epochs 7, loss = 14.69764730, score = 0.87704918\n",
            "Epochs 8, loss = 10.55765937, score = 0.91803279\n",
            "Epochs 9, loss = 8.27147611, score = 0.95901639\n",
            "Epochs 10, loss = 6.79672901, score = 0.98360656\n",
            "Epochs 11, loss = 5.77970993, score = 0.98360656\n",
            "Epochs 12, loss = 5.04196322, score = 0.98360656\n",
            "Epochs 13, loss = 4.48627608, score = 0.98360656\n",
            "Epochs 14, loss = 4.05550529, score = 0.98360656\n",
            "Epochs 15, loss = 3.71372430, score = 0.98360656\n",
            "Epochs 16, loss = 3.43717292, score = 0.98360656\n",
            "Epochs 17, loss = 3.20954591, score = 0.98360656\n",
            "Epochs 18, loss = 3.01933639, score = 0.98360656\n",
            "Epochs 19, loss = 2.85823858, score = 0.98360656\n",
            "Epochs 20, loss = 2.72014088, score = 0.98360656\n",
            "Epochs 21, loss = 2.60046900, score = 0.98360656\n",
            "Epochs 22, loss = 2.49574610, score = 0.98360656\n",
            "Epochs 23, loss = 2.40329189, score = 0.98360656\n",
            "Epochs 24, loss = 2.32101325, score = 0.98360656\n",
            "Epochs 25, loss = 2.24725595, score = 0.98360656\n",
            "Epochs 26, loss = 2.18069820, score = 0.97540984\n",
            "Epochs 27, loss = 2.12027310, score = 0.97540984\n",
            "Epochs 28, loss = 2.06511142, score = 0.97540984\n",
            "Epochs 29, loss = 2.01449884, score = 0.97540984\n",
            "Epochs 30, loss = 1.96784366, score = 0.98360656\n",
            "Epochs 31, loss = 1.92465214, score = 0.98360656\n",
            "Epochs 32, loss = 1.88450943, score = 0.98360656\n",
            "Epochs 33, loss = 1.84706474, score = 0.98360656\n",
            "Epochs 34, loss = 1.81201971, score = 0.98360656\n",
            "Epochs 35, loss = 1.77911913, score = 0.98360656\n",
            "Epochs 36, loss = 1.74814356, score = 0.98360656\n",
            "Epochs 37, loss = 1.71890342, score = 0.98360656\n",
            "Epochs 38, loss = 1.69123412, score = 0.98360656\n",
            "Epochs 39, loss = 1.66499216, score = 0.99180328\n",
            "Epochs 40, loss = 1.64005191, score = 0.99180328\n",
            "Epochs 41, loss = 1.61630293, score = 0.99180328\n",
            "Epochs 42, loss = 1.59364775, score = 0.99180328\n",
            "Epochs 43, loss = 1.57200006, score = 0.99180328\n",
            "Epochs 44, loss = 1.55128312, score = 0.99180328\n",
            "Epochs 45, loss = 1.53142851, score = 0.99180328\n",
            "Epochs 46, loss = 1.51237497, score = 0.99180328\n",
            "Epochs 47, loss = 1.49406751, score = 0.99180328\n",
            "Epochs 48, loss = 1.47645662, score = 0.99180328\n",
            "Epochs 49, loss = 1.45949753, score = 0.99180328\n",
            "Epochs 50, loss = 1.44314970, score = 0.99180328\n",
            "Epochs 1, loss = 93.78616824, score = 0.40163934\n",
            "Epochs 2, loss = 76.05045180, score = 0.66393443\n",
            "Epochs 3, loss = 69.14496906, score = 0.66393443\n",
            "Epochs 4, loss = 51.97659637, score = 0.66393443\n",
            "Epochs 5, loss = 35.52765476, score = 0.71311475\n",
            "Epochs 6, loss = 20.91643550, score = 0.81147541\n",
            "Epochs 7, loss = 14.04678307, score = 0.89344262\n",
            "Epochs 8, loss = 11.10273295, score = 0.93442623\n",
            "Epochs 9, loss = 9.21947122, score = 0.95901639\n",
            "Epochs 10, loss = 7.90797332, score = 0.97540984\n",
            "Epochs 11, loss = 6.95688187, score = 0.97540984\n",
            "Epochs 12, loss = 6.24355174, score = 0.97540984\n",
            "Epochs 13, loss = 5.69323446, score = 0.97540984\n",
            "Epochs 14, loss = 5.25846430, score = 0.97540984\n",
            "Epochs 15, loss = 4.90794416, score = 0.97540984\n",
            "Epochs 16, loss = 4.62036408, score = 0.97540984\n",
            "Epochs 17, loss = 4.38081030, score = 0.97540984\n",
            "Epochs 18, loss = 4.17859118, score = 0.97540984\n",
            "Epochs 19, loss = 4.00587634, score = 0.97540984\n",
            "Epochs 20, loss = 3.85682099, score = 0.97540984\n",
            "Epochs 21, loss = 3.72698855, score = 0.97540984\n",
            "Epochs 22, loss = 3.61296103, score = 0.97540984\n",
            "Epochs 23, loss = 3.51207025, score = 0.97540984\n",
            "Epochs 24, loss = 3.42220858, score = 0.97540984\n",
            "Epochs 25, loss = 3.34169330, score = 0.97540984\n",
            "Epochs 26, loss = 3.26916759, score = 0.97540984\n",
            "Epochs 27, loss = 3.20352742, score = 0.97540984\n",
            "Epochs 28, loss = 3.14386672, score = 0.97540984\n",
            "Epochs 29, loss = 3.08943588, score = 0.97540984\n",
            "Epochs 30, loss = 3.03961000, score = 0.97540984\n",
            "Epochs 31, loss = 2.99386437, score = 0.97540984\n",
            "Epochs 32, loss = 2.95175541, score = 0.98360656\n",
            "Epochs 33, loss = 2.91290564, score = 0.98360656\n",
            "Epochs 34, loss = 2.87699190, score = 0.98360656\n",
            "Epochs 35, loss = 2.84373586, score = 0.98360656\n",
            "Epochs 36, loss = 2.81289649, score = 0.98360656\n",
            "Epochs 37, loss = 2.78426393, score = 0.98360656\n",
            "Epochs 38, loss = 2.75765454, score = 0.98360656\n",
            "Epochs 39, loss = 2.73290681, score = 0.98360656\n",
            "Epochs 40, loss = 2.70987808, score = 0.98360656\n",
            "Epochs 41, loss = 2.68844172, score = 0.98360656\n",
            "Epochs 42, loss = 2.66848486, score = 0.98360656\n",
            "Epochs 43, loss = 2.64990645, score = 0.98360656\n",
            "Epochs 44, loss = 2.63261568, score = 0.98360656\n",
            "Epochs 45, loss = 2.61653058, score = 0.98360656\n",
            "Epochs 46, loss = 2.60157688, score = 0.98360656\n",
            "Epochs 47, loss = 2.58768703, score = 0.99180328\n",
            "Epochs 48, loss = 2.57479935, score = 0.99180328\n",
            "Epochs 49, loss = 2.56285731, score = 0.99180328\n",
            "Epochs 50, loss = 2.55180891, score = 0.99180328\n",
            "Epochs 1, loss = 51.13195842, score = 0.56557377\n",
            "Epochs 2, loss = 31.56935005, score = 0.67213115\n",
            "Epochs 3, loss = 53.91626884, score = 0.69672131\n",
            "Epochs 4, loss = 40.76911833, score = 0.72131148\n",
            "Epochs 5, loss = 26.89588339, score = 0.76229508\n",
            "Epochs 6, loss = 17.92144660, score = 0.84426230\n",
            "Epochs 7, loss = 15.43613183, score = 0.87704918\n",
            "Epochs 8, loss = 13.72733516, score = 0.89344262\n",
            "Epochs 9, loss = 12.38434638, score = 0.88524590\n",
            "Epochs 10, loss = 11.33177693, score = 0.90163934\n",
            "Epochs 11, loss = 10.47419845, score = 0.90163934\n",
            "Epochs 12, loss = 9.76366606, score = 0.93442623\n",
            "Epochs 13, loss = 9.16310588, score = 0.94262295\n",
            "Epochs 14, loss = 8.63741715, score = 0.95081967\n",
            "Epochs 15, loss = 8.15845623, score = 0.95901639\n",
            "Epochs 16, loss = 7.70903462, score = 0.95901639\n",
            "Epochs 17, loss = 7.28238442, score = 0.96721311\n",
            "Epochs 18, loss = 6.87880138, score = 0.96721311\n",
            "Epochs 19, loss = 6.50169435, score = 0.96721311\n",
            "Epochs 20, loss = 6.15451537, score = 0.96721311\n",
            "Epochs 21, loss = 5.83913135, score = 0.96721311\n",
            "Epochs 22, loss = 5.55546011, score = 0.96721311\n",
            "Epochs 23, loss = 5.30184543, score = 0.96721311\n",
            "Epochs 24, loss = 5.07567102, score = 0.96721311\n",
            "Epochs 25, loss = 4.87391347, score = 0.96721311\n",
            "Epochs 26, loss = 4.69352714, score = 0.96721311\n",
            "Epochs 27, loss = 4.53166555, score = 0.96721311\n",
            "Epochs 28, loss = 4.38578399, score = 0.96721311\n",
            "Epochs 29, loss = 4.25366881, score = 0.96721311\n",
            "Epochs 30, loss = 4.13342701, score = 0.96721311\n",
            "Epochs 31, loss = 4.02345712, score = 0.96721311\n",
            "Epochs 32, loss = 3.92241318, score = 0.96721311\n",
            "Epochs 33, loss = 3.82916825, score = 0.96721311\n",
            "Epochs 34, loss = 3.74278042, score = 0.96721311\n",
            "Epochs 35, loss = 3.66246254, score = 0.96721311\n",
            "Epochs 36, loss = 3.58755617, score = 0.96721311\n",
            "Epochs 37, loss = 3.51750941, score = 0.96721311\n",
            "Epochs 38, loss = 3.45185840, score = 0.96721311\n",
            "Epochs 39, loss = 3.39021196, score = 0.96721311\n",
            "Epochs 40, loss = 3.33223886, score = 0.96721311\n",
            "Epochs 41, loss = 3.27765746, score = 0.96721311\n",
            "Epochs 42, loss = 3.22622712, score = 0.96721311\n",
            "Epochs 43, loss = 3.17774120, score = 0.96721311\n",
            "Epochs 44, loss = 3.13202129, score = 0.96721311\n",
            "Epochs 45, loss = 3.08891252, score = 0.96721311\n",
            "Epochs 46, loss = 3.04827963, score = 0.97540984\n",
            "Epochs 47, loss = 3.01000379, score = 0.97540984\n",
            "Epochs 48, loss = 2.97397991, score = 0.97540984\n",
            "Epochs 49, loss = 2.94011446, score = 0.98360656\n",
            "Epochs 50, loss = 2.90832356, score = 0.98360656\n",
            "Epochs 1, loss = 46.79007178, score = 0.52459016\n",
            "Epochs 2, loss = 40.56575932, score = 0.66393443\n",
            "Epochs 3, loss = 50.38306788, score = 0.66393443\n",
            "Epochs 4, loss = 27.14358999, score = 0.75409836\n",
            "Epochs 5, loss = 17.59639584, score = 0.91803279\n",
            "Epochs 6, loss = 22.44171951, score = 0.77868852\n",
            "Epochs 7, loss = 13.02838395, score = 0.93442623\n",
            "Epochs 8, loss = 12.57648713, score = 0.90983607\n",
            "Epochs 9, loss = 11.16179518, score = 0.93442623\n",
            "Epochs 10, loss = 10.36986107, score = 0.94262295\n",
            "Epochs 11, loss = 9.65213671, score = 0.95901639\n",
            "Epochs 12, loss = 8.99764680, score = 0.95901639\n",
            "Epochs 13, loss = 8.40087337, score = 0.95901639\n",
            "Epochs 14, loss = 7.85817186, score = 0.96721311\n",
            "Epochs 15, loss = 7.36376618, score = 0.96721311\n",
            "Epochs 16, loss = 6.91249574, score = 0.96721311\n",
            "Epochs 17, loss = 6.50089951, score = 0.96721311\n",
            "Epochs 18, loss = 6.12684821, score = 0.96721311\n",
            "Epochs 19, loss = 5.78880587, score = 0.96721311\n",
            "Epochs 20, loss = 5.48524798, score = 0.96721311\n",
            "Epochs 21, loss = 5.21434811, score = 0.96721311\n",
            "Epochs 22, loss = 4.97388321, score = 0.96721311\n",
            "Epochs 23, loss = 4.76128006, score = 0.96721311\n",
            "Epochs 24, loss = 4.57373986, score = 0.96721311\n",
            "Epochs 25, loss = 4.40839279, score = 0.96721311\n",
            "Epochs 26, loss = 4.26244576, score = 0.96721311\n",
            "Epochs 27, loss = 4.13329804, score = 0.96721311\n",
            "Epochs 28, loss = 4.01861372, score = 0.96721311\n",
            "Epochs 29, loss = 3.91635251, score = 0.96721311\n",
            "Epochs 30, loss = 3.82476819, score = 0.95901639\n",
            "Epochs 31, loss = 3.74238646, score = 0.95901639\n",
            "Epochs 32, loss = 3.66797247, score = 0.95901639\n",
            "Epochs 33, loss = 3.60049528, score = 0.95901639\n",
            "Epochs 34, loss = 3.53909395, score = 0.95901639\n",
            "Epochs 35, loss = 3.48304731, score = 0.96721311\n",
            "Epochs 36, loss = 3.43174819, score = 0.96721311\n",
            "Epochs 37, loss = 3.38468219, score = 0.96721311\n",
            "Epochs 38, loss = 3.34141033, score = 0.96721311\n",
            "Epochs 39, loss = 3.30155519, score = 0.96721311\n",
            "Epochs 40, loss = 3.26478977, score = 0.96721311\n",
            "Epochs 41, loss = 3.23082862, score = 0.97540984\n",
            "Epochs 42, loss = 3.19942077, score = 0.97540984\n",
            "Epochs 43, loss = 3.17034409, score = 0.97540984\n",
            "Epochs 44, loss = 3.14340073, score = 0.97540984\n",
            "Epochs 45, loss = 3.11841346, score = 0.97540984\n",
            "Epochs 46, loss = 3.09522265, score = 0.97540984\n",
            "Epochs 47, loss = 3.07368391, score = 0.97540984\n",
            "Epochs 48, loss = 3.05366598, score = 0.97540984\n",
            "Epochs 49, loss = 3.03504914, score = 0.97540984\n",
            "Epochs 50, loss = 3.01772376, score = 0.97540984\n",
            "Epochs 1, loss = 43.63036248, score = 0.66393443\n",
            "Epochs 2, loss = 33.85380225, score = 0.69672131\n",
            "Epochs 3, loss = 31.39820156, score = 0.66393443\n",
            "Epochs 4, loss = 34.22801664, score = 0.73770492\n",
            "Epochs 5, loss = 17.51392397, score = 0.90983607\n",
            "Epochs 6, loss = 19.91557939, score = 0.82786885\n",
            "Epochs 7, loss = 12.75896766, score = 0.93442623\n",
            "Epochs 8, loss = 11.93660517, score = 0.91803279\n",
            "Epochs 9, loss = 9.92135021, score = 0.94262295\n",
            "Epochs 10, loss = 8.95127486, score = 0.95901639\n",
            "Epochs 11, loss = 8.10045784, score = 0.95901639\n",
            "Epochs 12, loss = 7.37078028, score = 0.95901639\n",
            "Epochs 13, loss = 6.72762227, score = 0.95901639\n",
            "Epochs 14, loss = 6.16888542, score = 0.96721311\n",
            "Epochs 15, loss = 5.69375099, score = 0.96721311\n",
            "Epochs 16, loss = 5.29685384, score = 0.96721311\n",
            "Epochs 17, loss = 4.96911121, score = 0.96721311\n",
            "Epochs 18, loss = 4.69974622, score = 0.97540984\n",
            "Epochs 19, loss = 4.47803014, score = 0.97540984\n",
            "Epochs 20, loss = 4.29438485, score = 0.97540984\n",
            "Epochs 21, loss = 4.14085080, score = 0.97540984\n",
            "Epochs 22, loss = 4.01110657, score = 0.96721311\n",
            "Epochs 23, loss = 3.90025816, score = 0.96721311\n",
            "Epochs 24, loss = 3.80455775, score = 0.96721311\n",
            "Epochs 25, loss = 3.72113741, score = 0.96721311\n",
            "Epochs 26, loss = 3.64778978, score = 0.96721311\n",
            "Epochs 27, loss = 3.58279967, score = 0.96721311\n",
            "Epochs 28, loss = 3.52481913, score = 0.96721311\n",
            "Epochs 29, loss = 3.47277620, score = 0.96721311\n",
            "Epochs 30, loss = 3.42580843, score = 0.96721311\n",
            "Epochs 31, loss = 3.38321418, score = 0.96721311\n",
            "Epochs 32, loss = 3.34441681, score = 0.96721311\n",
            "Epochs 33, loss = 3.30893785, score = 0.97540984\n",
            "Epochs 34, loss = 3.27637685, score = 0.97540984\n",
            "Epochs 35, loss = 3.24639597, score = 0.97540984\n",
            "Epochs 36, loss = 3.21870810, score = 0.97540984\n",
            "Epochs 37, loss = 3.19306762, score = 0.97540984\n",
            "Epochs 38, loss = 3.16926307, score = 0.97540984\n",
            "Epochs 39, loss = 3.14711139, score = 0.97540984\n",
            "Epochs 40, loss = 3.12645324, score = 0.97540984\n",
            "Epochs 41, loss = 3.10714925, score = 0.97540984\n",
            "Epochs 42, loss = 3.08907697, score = 0.97540984\n",
            "Epochs 43, loss = 3.07212833, score = 0.97540984\n",
            "Epochs 44, loss = 3.05620758, score = 0.97540984\n",
            "Epochs 45, loss = 3.04122958, score = 0.97540984\n",
            "Epochs 46, loss = 3.02711834, score = 0.97540984\n",
            "Epochs 47, loss = 3.01380579, score = 0.97540984\n",
            "Epochs 48, loss = 3.00123081, score = 0.97540984\n",
            "Epochs 49, loss = 2.98933831, score = 0.97540984\n",
            "Epochs 50, loss = 2.97807852, score = 0.97540984\n"
          ],
          "name": "stdout"
        }
      ]
    },
    {
      "cell_type": "code",
      "metadata": {
        "colab": {
          "base_uri": "https://localhost:8080/"
        },
        "id": "tUCDoC7Tufza",
        "outputId": "f89cd572-b134-412c-8bf8-24a3b914e256"
      },
      "source": [
        "for i, res in enumerate(results[\"score\"]):\n",
        "  print(f\"KFold : {i+1} : {res}\")\n",
        "print(f\"Average Accuracy with {len(results['score'])} KFold : {sum(results['score']) / len(results['score'])}\")"
      ],
      "execution_count": null,
      "outputs": [
        {
          "output_type": "stream",
          "text": [
            "KFold : 1 : 1.0\n",
            "KFold : 2 : 1.0\n",
            "KFold : 3 : 0.9285714285714286\n",
            "KFold : 4 : 1.0\n",
            "KFold : 5 : 0.9285714285714286\n",
            "KFold : 6 : 0.8461538461538461\n",
            "KFold : 7 : 0.9230769230769231\n",
            "KFold : 8 : 1.0\n",
            "KFold : 9 : 1.0\n",
            "KFold : 10 : 0.9230769230769231\n",
            "Average Accuracy with 10 KFold : 0.9549450549450551\n"
          ],
          "name": "stdout"
        }
      ]
    },
    {
      "cell_type": "code",
      "metadata": {
        "colab": {
          "base_uri": "https://localhost:8080/"
        },
        "id": "pEfQRjqiug-C",
        "outputId": "00e549cf-87bc-41f3-a109-7ef2eda3a2a7"
      },
      "source": [
        "y_pred = best_model.predict(X_test)\n",
        "accuracy_score(y_pred, y_test)"
      ],
      "execution_count": null,
      "outputs": [
        {
          "output_type": "execute_result",
          "data": {
            "text/plain": [
              "1.0"
            ]
          },
          "metadata": {
            "tags": []
          },
          "execution_count": 90
        }
      ]
    },
    {
      "cell_type": "code",
      "metadata": {
        "colab": {
          "base_uri": "https://localhost:8080/"
        },
        "id": "j8Vfmhsiuobd",
        "outputId": "5e7972e0-31c0-4e70-c8d9-e20a12371195"
      },
      "source": [
        "confusion_matrix(y_pred, y_test)"
      ],
      "execution_count": null,
      "outputs": [
        {
          "output_type": "execute_result",
          "data": {
            "text/plain": [
              "array([[6, 0, 0],\n",
              "       [0, 6, 0],\n",
              "       [0, 0, 3]])"
            ]
          },
          "metadata": {
            "tags": []
          },
          "execution_count": 91
        }
      ]
    },
    {
      "cell_type": "code",
      "metadata": {
        "colab": {
          "base_uri": "https://localhost:8080/",
          "height": 136
        },
        "id": "bq6j5hXyPi6g",
        "outputId": "bbd2bff8-9d86-4653-a781-3a6c7e6e313e"
      },
      "source": [
        "classification_report(y_pred, y_test)"
      ],
      "execution_count": null,
      "outputs": [
        {
          "output_type": "execute_result",
          "data": {
            "text/html": [
              "<div>\n",
              "<style scoped>\n",
              "    .dataframe tbody tr th:only-of-type {\n",
              "        vertical-align: middle;\n",
              "    }\n",
              "\n",
              "    .dataframe tbody tr th {\n",
              "        vertical-align: top;\n",
              "    }\n",
              "\n",
              "    .dataframe thead th {\n",
              "        text-align: right;\n",
              "    }\n",
              "</style>\n",
              "<table border=\"1\" class=\"dataframe\">\n",
              "  <thead>\n",
              "    <tr style=\"text-align: right;\">\n",
              "      <th></th>\n",
              "      <th>precision</th>\n",
              "      <th>recall</th>\n",
              "      <th>f1-score</th>\n",
              "    </tr>\n",
              "  </thead>\n",
              "  <tbody>\n",
              "    <tr>\n",
              "      <th>0</th>\n",
              "      <td>1.0</td>\n",
              "      <td>1.0</td>\n",
              "      <td>1.0</td>\n",
              "    </tr>\n",
              "    <tr>\n",
              "      <th>1</th>\n",
              "      <td>1.0</td>\n",
              "      <td>1.0</td>\n",
              "      <td>1.0</td>\n",
              "    </tr>\n",
              "    <tr>\n",
              "      <th>2</th>\n",
              "      <td>1.0</td>\n",
              "      <td>1.0</td>\n",
              "      <td>1.0</td>\n",
              "    </tr>\n",
              "  </tbody>\n",
              "</table>\n",
              "</div>"
            ],
            "text/plain": [
              "   precision  recall  f1-score\n",
              "0        1.0     1.0       1.0\n",
              "1        1.0     1.0       1.0\n",
              "2        1.0     1.0       1.0"
            ]
          },
          "metadata": {
            "tags": []
          },
          "execution_count": 92
        }
      ]
    },
    {
      "cell_type": "code",
      "metadata": {
        "colab": {
          "base_uri": "https://localhost:8080/",
          "height": 621
        },
        "id": "gf4y7uWpupXh",
        "outputId": "ae2805dd-070a-4805-9290-d5fa42c0bbd2"
      },
      "source": [
        "best_model.plot()"
      ],
      "execution_count": null,
      "outputs": [
        {
          "output_type": "display_data",
          "data": {
            "image/png": "[encoded data removed]",
            "text/plain": [
              "<Figure size 864x720 with 4 Axes>"
            ]
          },
          "metadata": {
            "tags": [],
            "needs_background": "light"
          }
        }
      ]
    },
    {
      "cell_type": "markdown",
      "metadata": {
        "id": "KgegNVizt3q2"
      },
      "source": [
        "# Save & Load Model \n",
        "---\n",
        "Testing save and load model with **new instance** testing"
      ]
    },
    {
      "cell_type": "code",
      "metadata": {
        "id": "iQ0-s8GPt-si"
      },
      "source": [
        "# Save model\n",
        "best_model.save(\"model.json\")"
      ],
      "execution_count": null,
      "outputs": []
    },
    {
      "cell_type": "code",
      "metadata": {
        "id": "JZZofusWt_r0"
      },
      "source": [
        "# Load model\n",
        "new_model = ANNClassifier()\n",
        "new_model.load('model.json')\n",
        "\n",
        "# predict same data\n",
        "y_new_pred = new_model.predict(x_new)"
      ],
      "execution_count": null,
      "outputs": []
    },
    {
      "cell_type": "code",
      "metadata": {
        "id": "Qkc9xOVwt6Uy"
      },
      "source": [
        "# Finding the average of each instance ... \n",
        "iris_dataset = load_iris()\n",
        "x = iris_dataset['data']\n",
        "y = iris_dataset['target']\n",
        "\n",
        "mask = (y == 0)\n",
        "instance0 = x[mask]\n",
        "\n",
        "mask = (y == 1)\n",
        "instance1 = x[mask]\n",
        "\n",
        "mask = (y == 2)\n",
        "instance2 = x[mask]\n",
        "\n",
        "dataset = [instance0, instance1, instance2]\n",
        "\n",
        "# Random instance : Using the same distribution with the current data\n",
        "new_data = np.array([\n",
        "    [np.median(data[:,0]), \n",
        "     np.median(data[:,1]), \n",
        "     np.median(data[:,2]), \n",
        "     np.median(data[:,3])]\n",
        "    for data in dataset])\n",
        "\n",
        "new_target = np.array([0,1,2])\n",
        "b_new = one_hot_encoder(new_target)"
      ],
      "execution_count": null,
      "outputs": []
    },
    {
      "cell_type": "code",
      "metadata": {
        "id": "IdVja0m-t8YX"
      },
      "source": [
        "# Scaling (Use training data scaler)\n",
        "x_new = scale.transform(new_data)"
      ],
      "execution_count": null,
      "outputs": []
    },
    {
      "cell_type": "code",
      "metadata": {
        "colab": {
          "base_uri": "https://localhost:8080/"
        },
        "id": "8BKY4fBYt9eO",
        "outputId": "5119ec5a-7f54-4611-df2a-679d55b716e4"
      },
      "source": [
        "# Showing results from current model\n",
        "y_new_pred = new_model.predict(x_new)\n",
        "\n",
        "# Summary ...\n",
        "print(f\"Accuracy for new instance : {accuracy_score(y_new_pred, b_new)}\")\n",
        "print(\"Confusion Matrix : \")\n",
        "print(confusion_matrix(y_new_pred, b_new))"
      ],
      "execution_count": null,
      "outputs": [
        {
          "output_type": "stream",
          "text": [
            "Accuracy for new instance : 1.0\n",
            "Confusion Matrix : \n",
            "[[1 0 0]\n",
            " [0 1 0]\n",
            " [0 0 1]]\n"
          ],
          "name": "stdout"
        }
      ]
    },
    {
      "cell_type": "markdown",
      "metadata": {
        "id": "8e5p4-Al4XkV"
      },
      "source": [
        "# Comparation with Library"
      ]
    },
    {
      "cell_type": "markdown",
      "metadata": {
        "id": "Nfo5csFpYZgn"
      },
      "source": [
        "## Perbandingan hasil dengan library MLPClassifier"
      ]
    },
    {
      "cell_type": "code",
      "metadata": {
        "id": "AfPEx0JCcq-g"
      },
      "source": [
        "from sklearn.neural_network import MLPClassifier\n",
        "from sklearn.metrics import confusion_matrix as confusion_sklearn\n",
        "\n",
        "mlp_clf = MLPClassifier(random_state=42, hidden_layer_sizes=(4,), solver='sgd', activation='logistic',\n",
        "                      alpha=0, batch_size=5, learning_rate_init=0.5, power_t=0, \n",
        "                      max_iter=50, shuffle=False, verbose=True, momentum=0,\n",
        "                      beta_1=0, beta_2=0, n_iter_no_change=50)"
      ],
      "execution_count": null,
      "outputs": []
    },
    {
      "cell_type": "code",
      "metadata": {
        "id": "2ZGbN22SrGut",
        "colab": {
          "base_uri": "https://localhost:8080/"
        },
        "outputId": "44085c2f-ee45-48f8-90fa-1002fd1224cb"
      },
      "source": [
        "mlp_pred = mlp_clf.fit(X_train, y_train).predict(X_test)\n",
        "custom_model_pred = new_model.predict(X_test)"
      ],
      "execution_count": null,
      "outputs": [
        {
          "output_type": "stream",
          "text": [
            "Iteration 1, loss = 1.83812509\n",
            "Iteration 2, loss = 1.27235377\n",
            "Iteration 3, loss = 1.04302236\n",
            "Iteration 4, loss = 0.92965346\n",
            "Iteration 5, loss = 0.82833816\n",
            "Iteration 6, loss = 0.72990132\n",
            "Iteration 7, loss = 0.63654063\n",
            "Iteration 8, loss = 0.55138184\n",
            "Iteration 9, loss = 0.47757821\n",
            "Iteration 10, loss = 0.41622720\n",
            "Iteration 11, loss = 0.36643083\n",
            "Iteration 12, loss = 0.32638813\n",
            "Iteration 13, loss = 0.29420857\n",
            "Iteration 14, loss = 0.26825096\n",
            "Iteration 15, loss = 0.24718750\n",
            "Iteration 16, loss = 0.22997057\n",
            "Iteration 17, loss = 0.21578203\n",
            "Iteration 18, loss = 0.20398663\n",
            "Iteration 19, loss = 0.19409264\n",
            "Iteration 20, loss = 0.18571974\n",
            "Iteration 21, loss = 0.17857317\n",
            "Iteration 22, loss = 0.17242364\n",
            "Iteration 23, loss = 0.16709178\n",
            "Iteration 24, loss = 0.16243634\n",
            "Iteration 25, loss = 0.15834524\n",
            "Iteration 26, loss = 0.15472885\n",
            "Iteration 27, loss = 0.15151488\n",
            "Iteration 28, loss = 0.14864458\n",
            "Iteration 29, loss = 0.14606977\n",
            "Iteration 30, loss = 0.14375069\n",
            "Iteration 31, loss = 0.14165424\n",
            "Iteration 32, loss = 0.13975269\n",
            "Iteration 33, loss = 0.13802262\n",
            "Iteration 34, loss = 0.13644419\n",
            "Iteration 35, loss = 0.13500040\n",
            "Iteration 36, loss = 0.13367669\n",
            "Iteration 37, loss = 0.13246046\n",
            "Iteration 38, loss = 0.13134077\n",
            "Iteration 39, loss = 0.13030809\n",
            "Iteration 40, loss = 0.12935407\n",
            "Iteration 41, loss = 0.12847134\n",
            "Iteration 42, loss = 0.12765340\n",
            "Iteration 43, loss = 0.12689450\n",
            "Iteration 44, loss = 0.12618950\n",
            "Iteration 45, loss = 0.12553382\n",
            "Iteration 46, loss = 0.12492334\n",
            "Iteration 47, loss = 0.12435438\n",
            "Iteration 48, loss = 0.12382361\n",
            "Iteration 49, loss = 0.12332802\n",
            "Iteration 50, loss = 0.12286487\n"
          ],
          "name": "stdout"
        }
      ]
    },
    {
      "cell_type": "code",
      "metadata": {
        "colab": {
          "base_uri": "https://localhost:8080/",
          "height": 136
        },
        "id": "w-9rtxBZsWOm",
        "outputId": "27ce57f5-5362-4001-b91a-10459c776ef3"
      },
      "source": [
        "classification_report(mlp_pred, y_test)"
      ],
      "execution_count": null,
      "outputs": [
        {
          "output_type": "execute_result",
          "data": {
            "text/html": [
              "<div>\n",
              "<style scoped>\n",
              "    .dataframe tbody tr th:only-of-type {\n",
              "        vertical-align: middle;\n",
              "    }\n",
              "\n",
              "    .dataframe tbody tr th {\n",
              "        vertical-align: top;\n",
              "    }\n",
              "\n",
              "    .dataframe thead th {\n",
              "        text-align: right;\n",
              "    }\n",
              "</style>\n",
              "<table border=\"1\" class=\"dataframe\">\n",
              "  <thead>\n",
              "    <tr style=\"text-align: right;\">\n",
              "      <th></th>\n",
              "      <th>precision</th>\n",
              "      <th>recall</th>\n",
              "      <th>f1-score</th>\n",
              "    </tr>\n",
              "  </thead>\n",
              "  <tbody>\n",
              "    <tr>\n",
              "      <th>0</th>\n",
              "      <td>1.000</td>\n",
              "      <td>1.00</td>\n",
              "      <td>1.000</td>\n",
              "    </tr>\n",
              "    <tr>\n",
              "      <th>1</th>\n",
              "      <td>0.833</td>\n",
              "      <td>1.00</td>\n",
              "      <td>0.909</td>\n",
              "    </tr>\n",
              "    <tr>\n",
              "      <th>2</th>\n",
              "      <td>1.000</td>\n",
              "      <td>0.75</td>\n",
              "      <td>0.857</td>\n",
              "    </tr>\n",
              "  </tbody>\n",
              "</table>\n",
              "</div>"
            ],
            "text/plain": [
              "   precision  recall  f1-score\n",
              "0      1.000    1.00     1.000\n",
              "1      0.833    1.00     0.909\n",
              "2      1.000    0.75     0.857"
            ]
          },
          "metadata": {
            "tags": []
          },
          "execution_count": 101
        }
      ]
    },
    {
      "cell_type": "code",
      "metadata": {
        "colab": {
          "base_uri": "https://localhost:8080/",
          "height": 136
        },
        "id": "PfwnpMbLsZ6M",
        "outputId": "8adcf74c-640f-45c0-adcf-53fcf37e3dbd"
      },
      "source": [
        "classification_report(custom_model_pred, y_test)"
      ],
      "execution_count": null,
      "outputs": [
        {
          "output_type": "execute_result",
          "data": {
            "text/html": [
              "<div>\n",
              "<style scoped>\n",
              "    .dataframe tbody tr th:only-of-type {\n",
              "        vertical-align: middle;\n",
              "    }\n",
              "\n",
              "    .dataframe tbody tr th {\n",
              "        vertical-align: top;\n",
              "    }\n",
              "\n",
              "    .dataframe thead th {\n",
              "        text-align: right;\n",
              "    }\n",
              "</style>\n",
              "<table border=\"1\" class=\"dataframe\">\n",
              "  <thead>\n",
              "    <tr style=\"text-align: right;\">\n",
              "      <th></th>\n",
              "      <th>precision</th>\n",
              "      <th>recall</th>\n",
              "      <th>f1-score</th>\n",
              "    </tr>\n",
              "  </thead>\n",
              "  <tbody>\n",
              "    <tr>\n",
              "      <th>0</th>\n",
              "      <td>1.0</td>\n",
              "      <td>1.0</td>\n",
              "      <td>1.0</td>\n",
              "    </tr>\n",
              "    <tr>\n",
              "      <th>1</th>\n",
              "      <td>1.0</td>\n",
              "      <td>1.0</td>\n",
              "      <td>1.0</td>\n",
              "    </tr>\n",
              "    <tr>\n",
              "      <th>2</th>\n",
              "      <td>1.0</td>\n",
              "      <td>1.0</td>\n",
              "      <td>1.0</td>\n",
              "    </tr>\n",
              "  </tbody>\n",
              "</table>\n",
              "</div>"
            ],
            "text/plain": [
              "   precision  recall  f1-score\n",
              "0        1.0     1.0       1.0\n",
              "1        1.0     1.0       1.0\n",
              "2        1.0     1.0       1.0"
            ]
          },
          "metadata": {
            "tags": []
          },
          "execution_count": 102
        }
      ]
    },
    {
      "cell_type": "code",
      "metadata": {
        "colab": {
          "base_uri": "https://localhost:8080/"
        },
        "id": "1v5nbVpNtmD7",
        "outputId": "bbf1909c-7c64-4bae-84db-9d59923be2b9"
      },
      "source": [
        "print(f'MLPClassifier = {accuracy_score(mlp_pred, y_test)}')\n",
        "print(f'Our Implementation = {accuracy_score(custom_model_pred, y_test)}')"
      ],
      "execution_count": null,
      "outputs": [
        {
          "output_type": "stream",
          "text": [
            "MLPClassifier = 0.9333333333333333\n",
            "Our Implementation = 1.0\n"
          ],
          "name": "stdout"
        }
      ]
    },
    {
      "cell_type": "markdown",
      "metadata": {
        "id": "khChOpuksEUp"
      },
      "source": [
        "## Perbandingan confusion matrix dengan library"
      ]
    },
    {
      "cell_type": "code",
      "metadata": {
        "colab": {
          "base_uri": "https://localhost:8080/"
        },
        "id": "LjZL_0QV4Xkf",
        "outputId": "3029fc91-1039-4bc3-b834-5aedd0c7eca9"
      },
      "source": [
        "# Custom Confusion Matrix\n",
        "confusion_matrix(mlp_pred, y_test)"
      ],
      "execution_count": null,
      "outputs": [
        {
          "output_type": "execute_result",
          "data": {
            "text/plain": [
              "array([[6, 0, 0],\n",
              "       [0, 5, 0],\n",
              "       [0, 1, 3]])"
            ]
          },
          "metadata": {
            "tags": []
          },
          "execution_count": 104
        }
      ]
    },
    {
      "cell_type": "code",
      "metadata": {
        "colab": {
          "base_uri": "https://localhost:8080/"
        },
        "id": "M9skL0JEYjgR",
        "outputId": "354bd026-1fc3-4482-ef08-1870cd960221"
      },
      "source": [
        "# Confusion matrix from sklearn\n",
        "confusion_sklearn(mlp_pred.argmax(1), y_test.argmax(1))"
      ],
      "execution_count": null,
      "outputs": [
        {
          "output_type": "execute_result",
          "data": {
            "text/plain": [
              "array([[6, 0, 0],\n",
              "       [0, 5, 0],\n",
              "       [0, 1, 3]])"
            ]
          },
          "metadata": {
            "tags": []
          },
          "execution_count": 105
        }
      ]
    },
    {
      "cell_type": "markdown",
      "metadata": {
        "id": "kJ3-64QnrmxB"
      },
      "source": [
        "Berdasarkan uji coba, implementasi confusion matrix yang kami buat dengan apa yang dimiliki oleh library scikit-learn, memiliki output yang sama "
      ]
    },
    {
      "cell_type": "markdown",
      "metadata": {
        "id": "fIW1AuqLicx0"
      },
      "source": [
        "# Laporan\n",
        "## A. Perbandingan FFNN dengan skema 90% train 10% test dan skema 10-fold cross validation\n",
        "\n",
        "Jika dilihat dari confusion matrix kedua skema, skema 90% train dan 10% test (model 1) lebih buruk daripada skema 10-fold cross validation (model 2). Perbedaan ini terdapat model 1 saat memprediksi sebuah instance salah memprediksi kelas.\n",
        "\n",
        "Berikut adalah score dari ***precision***, ***recall***, F1 dan akurasi dari Model 1:\n",
        "\n",
        "| Category \\ Class | 0     | 1     | 2   | \n",
        "|:-------------:   |:----: | :---: | :-: |\n",
        "| Precision (%)    |   100 | 83,33 | 100 | \n",
        "| Recall (%)       |   100 | 100   | 75  |\n",
        "|   F1 (%)         |   100 | 90.9  | 85.7|\n",
        "| Akurasi (%)      |       | 93.3  |     |\n",
        "\n",
        "Berikut adalah score dari ***precision***, ***recall***, F1 dan akurasi dari Model 2:\n",
        "\n",
        "| Category \\ Class | 0     | 1   | 2   | \n",
        "|:-------------:   |:----: | :-: | :-: |\n",
        "| Precision (%)    |   100 | 100 | 100 | \n",
        "| Recall (%)       |   100 | 100 | 100 |\n",
        "|   F1 (%)         |   100 | 100 | 100 |\n",
        "| Akurasi (%)      |       | 100 |     |\n",
        "\n",
        "Berdasarkan nilai score baik akurasi, *precision*, *recall*, maupun *f1*, model 2 lebih baik karena model 2 mendapatkan *perfect score* disetiap kelas.\n",
        "\n",
        "Score dan error setiap *epoch* menunjukkan bahwa model 2 lebih stabil karena lebih konsisten perubahannya. \n",
        "Sedangkan score dan error setiap *batch*nya pada model 2, walaupun tidak semulus pada score dan error per *epoch*, tetapi model 2 lebih mulus daripada model 1.\n",
        "Untuk error (baik per epoch ataupun per batch), model 2 memiliki maksimal error yang lebih kecil daripada model 1.\n",
        "\n",
        "--- \n",
        "\n",
        "\n",
        "## B. Pembagian Kerja\n",
        "\n",
        "| NIM      | Anggota                        | Pembagian Tugas           |\n",
        "|----------|--------------------------------|---------------------------|\n",
        "| 13518024 | Jovan Karuna Cahyadi           | - Membuat precision, recall, dan f1-score <br> - Membuat classification report|\n",
        "| 13518062 | Ricky Fernando                 | - Membuat analisis <br> - Membantu mengerjakan confusion matrix  |\n",
        "| 13518122 | Stefanus Stanley Yoga Setiawan | - Membuat confusion matrix <br> - Membuat plotting historical loss dan score train pada model <br> - Review code dan analisis yang sudah dibuat |\n",
        "| 13518138 | William                        | - Melakukan pembelajaran FFNN untuk dataset iris dengan skema 10-fold cross validation (beserta kinerjanya) <br> - Melakukan uji coba penyimpanan model / hipotesis pembelajaran skema full training ke file eksternal <br> - Melakukan tahapan loading model / hipotesis dari file eksternal <br> - Membuat instance baru dan memprediksi dengan memanfaatkan model / hipotesis dari penyimpanan model pembelajaran utuh |\n",
        "\n"
      ]
    }
  ]
}