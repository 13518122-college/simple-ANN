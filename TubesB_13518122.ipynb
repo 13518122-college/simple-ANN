{
  "nbformat": 4,
  "nbformat_minor": 0,
  "metadata": {
    "colab": {
      "name": "TubesB_13518122.ipynb",
      "provenance": [],
      "collapsed_sections": []
    },
    "kernelspec": {
      "name": "python3",
      "display_name": "Python 3"
    }
  },
  "cells": [
    {
      "cell_type": "markdown",
      "metadata": {
        "id": "G_V-46FD2alR"
      },
      "source": [
        "# Bagian B\n",
        "---\n",
        "**Implementasi Mini-batch Gradient Descent**\n",
        "\n",
        "Anggota : \n",
        "- Jovan Karuna Cahyadi (13518024)\n",
        "- Ricky Fernando (13518062)\n",
        "- Stefanus Stanley Yoga Setiawan (13518122)\n",
        "- William (13518138)"
      ]
    },
    {
      "cell_type": "markdown",
      "metadata": {
        "id": "NGYLQYM8rAdQ"
      },
      "source": [
        "# External Library & Notebook Sanity Check\n",
        "---\n",
        "Berikut library eksternal yang kami gunakan :\n",
        "- numpy\n",
        "- pandas\n",
        "\n"
      ]
    },
    {
      "cell_type": "code",
      "metadata": {
        "id": "KDyl1pVbGxSl"
      },
      "source": [
        "import pandas as pd\n",
        "import math\n",
        "import numpy as np\n",
        "import json\n",
        "import matplotlib.pyplot as plt\n",
        "\n",
        "from copy import deepcopy\n",
        "from json import JSONEncoder\n",
        "from pprint import pprint\n",
        "\n",
        "import warnings\n",
        "warnings.filterwarnings('ignore')"
      ],
      "execution_count": null,
      "outputs": []
    },
    {
      "cell_type": "markdown",
      "metadata": {
        "id": "xKmn1dKWrEcp"
      },
      "source": [
        "# Utility Function\n",
        "\n",
        "---\n",
        "Terdapat beberapa fungsi _utility_ yang kami buat untuk mempermudah tahapan pembangunan Neural Network, sebagai berikut:\n",
        "\n",
        "Sementara itu, fungsi - fungsi _activation_ yang telah dibuat pada bagian A sebelumnya diubah agar dapat menghitung nilai derivasi fungsi, yaitu:\n",
        "\n",
        "\n"
      ]
    },
    {
      "cell_type": "code",
      "metadata": {
        "id": "3jF6vqEFGPCe"
      },
      "source": [
        "###################\n",
        "# Model Selection #\n",
        "###################\n",
        "def one_hot_encoder(y):\n",
        "  b = np.zeros((y.size, y.max()+1))\n",
        "  b[np.arange(y.size),y] = 1\n",
        "  return b\n",
        "  \n",
        "#################\n",
        "# Loss Function #\n",
        "#################\n",
        "\n",
        "def mse(y_pred, y, derivative=False):\n",
        "  if derivative:\n",
        "    return -1*(y-y_pred)\n",
        "  return 0.5*(y-y_pred)**2\n",
        "\n",
        "def cross_entropy(y_pred, y):\n",
        "  n_data = len(y[0])\n",
        "  res = []\n",
        "  for i in range(n_data):\n",
        "    target = y[:, i]\n",
        "    target_index = np.where(target==1)[0][0]\n",
        "    err = -np.log(y_pred[:, i][target_index])\n",
        "    res.append(err)\n",
        "  return np.array(res)\n",
        "\n",
        "#######################\n",
        "# Activation Function #\n",
        "#######################\n",
        "\n",
        "def relu(x, derivative=False):\n",
        "  if derivative:\n",
        "    return 1\n",
        "  return np.maximum(0, x)\n",
        "\n",
        "def linear(x, derivative=False):\n",
        "  if derivative:\n",
        "    return 1\n",
        "  return x\n",
        "\n",
        "def sigmoid(x, derivative=False):\n",
        "  if derivative:\n",
        "    return x*(1-x)\n",
        "  return 1/(1+np.exp(-x))\n",
        "\n",
        "def softmax(x):\n",
        "  return np.exp(x) / np.sum(np.exp(x), axis=0)\n",
        "\n",
        "def softmax_derivative(res, y):\n",
        "  lists=[]\n",
        "  n_data = len(y[0])\n",
        "  res_copy = deepcopy(res)\n",
        "  y_copy = deepcopy(y)\n",
        "  y_transpose = y_copy.T\n",
        "  res_transpose = res_copy.T\n",
        "  for i in range(n_data):\n",
        "    target = list(y_transpose[i])\n",
        "    target_index = target.index(1)\n",
        "    res_transpose[i][target_index] = -(1-res_transpose[i][target_index])\n",
        "  return res_transpose.T \n",
        "\n",
        "####################\n",
        "# Scoring Function #\n",
        "####################\n",
        "\n",
        "def accuracy_score(y_pred, y_test):\n",
        "  isOneHot = len(y_pred[0]) == 1\n",
        "  if not isOneHot:\n",
        "    t_y_pred = np.zeros_like(deepcopy(y_pred))\n",
        "    t_y_pred[np.arange(len(y_pred)), y_pred.argmax(1)] = 1\n",
        "    count = 0\n",
        "    total = len(t_y_pred)\n",
        "    for i in range(total):\n",
        "      if(not np.array_equal(t_y_pred[i], y_test[i])):\n",
        "        count += 1\n",
        "    return 1 - count/total\n",
        "  else:\n",
        "    count = 0\n",
        "    total = y_pred.shape[0]\n",
        "    for a, b in zip(y_pred, y_test):\n",
        "      if np.round(a) == np.round(b):\n",
        "        count += 1\n",
        "    return count/total\n",
        "\n",
        "from keras import backend as K\n",
        "def recall_score(y_true, y_pred):\n",
        "    true_positives = K.sum(K.round(K.clip(y_true * y_pred, 0, 1)))\n",
        "    possible_positives = K.sum(K.round(K.clip(y_true, 0, 1)))\n",
        "    recall = true_positives / (possible_positives + K.epsilon())\n",
        "    return recall\n",
        "\n",
        "def precision_score(y_true, y_pred):\n",
        "    true_positives = K.sum(K.round(K.clip(y_true * y_pred, 0, 1)))\n",
        "    predicted_positives = K.sum(K.round(K.clip(y_pred, 0, 1)))\n",
        "    precision = true_positives / (predicted_positives + K.epsilon())\n",
        "    return precision\n",
        "\n",
        "def f1_score(y_true, y_pred):\n",
        "    precision = precision_score(y_true, y_pred)\n",
        "    recall = recall_score(y_true, y_pred)\n",
        "    return 2*((precision*recall)/(precision+recall+K.epsilon()))\n",
        "\n",
        "#######################\n",
        "# External File Utils #\n",
        "#######################\n",
        "def export_to_json(data, filename):\n",
        "  \n",
        "  class NumpyArrayEncoder(JSONEncoder):\n",
        "    def default(self, obj):\n",
        "        if isinstance(obj, np.ndarray):\n",
        "            return obj.tolist()\n",
        "        return JSONEncoder.default(self, obj)\n",
        "\n",
        "  with open(filename, \"w\") as json_file:  \n",
        "    json.dump(data, json_file, cls=NumpyArrayEncoder) \n",
        "  \n",
        "\n",
        "def import_from_json(filename):\n",
        "  with open(filename, 'r') as json_file: \n",
        "    data = json.load(json_file)\n",
        "  if data is not None : \n",
        "    return data\n",
        "  else :\n",
        "    print(\"No data found!\")\n",
        "\n",
        "def activation_func_identifier(func_name):\n",
        "  return {\n",
        "    \"sigmoid\" : sigmoid,\n",
        "    \"softmax\" : softmax,\n",
        "    \"linear\" : linear,\n",
        "    \"relu\" : relu\n",
        "  }.get(func_name)\n",
        "\n",
        "def activation_func_dump(func):\n",
        "  return {\n",
        "    sigmoid : \"sigmoid\",\n",
        "    softmax : \"softmax\",\n",
        "    linear : \"linear\",\n",
        "    relu : \"relu\"\n",
        "  }.get(func)\n",
        "\n",
        "def create_history(ann):\n",
        "  for i, hist in enumerate(ann.history):\n",
        "    if i == 0:\n",
        "      print('Input Layer')\n",
        "    else:\n",
        "      print(f'Layer {i}')\n",
        "    for j, value in enumerate(hist):\n",
        "      if i == 0:\n",
        "        print(f'    Features {j} = {value}')\n",
        "      else:\n",
        "        print(f'    σ(Out Nodes {j}) = {value}')"
      ],
      "execution_count": null,
      "outputs": []
    },
    {
      "cell_type": "markdown",
      "metadata": {
        "id": "DRY00PxYrHCG"
      },
      "source": [
        "# Artificial Neural Network Representation"
      ]
    },
    {
      "cell_type": "code",
      "metadata": {
        "id": "XxcfYVqqHLnF"
      },
      "source": [
        "class HiddenLayer():\n",
        "  \"\"\"\n",
        "  Attributes:\n",
        "    weights (np.array) -> with shape (n_nodes, n_features)\n",
        "      weights[nodes][features]\n",
        "    prev_res (np.array) -> with shape (n_features, n_data)\n",
        "      prev_res[features][n]\n",
        "    out (np.array) -> with shape (n_nodes, n_data)\n",
        "    bias (np.array) -> with shape (n_nodes)\n",
        "    activation_function (function) -> activation function for this layer\n",
        "  \n",
        "  Method:\n",
        "    calculate_out -> dot product between input and nodes weight\n",
        "  \"\"\"\n",
        "  def __init__(self, nodes, activation_function, prev_res=None):\n",
        "    \"\"\"\n",
        "    Parameters:\n",
        "      nodes (tuple(int, int)) -> Create matrix weights\n",
        "      activation_function (function) -> activation function for this layer\n",
        "      prev_res (np.array) -> with shape (n_nodes_before, n_data), first layer\n",
        "      shape is (n_features, n_data), next layer will be initialize with None\n",
        "      because no output yet from nodes before\n",
        "    \"\"\"\n",
        "    self.weights = np.random.uniform(0, 1, nodes)\n",
        "    self.out = None\n",
        "    self.prev_res = prev_res\n",
        "    self.bias = np.random.uniform(0, 1, (1, self.weights.shape[0]))\n",
        "    self.activation_function = activation_function\n",
        "\n",
        "  def calculate_out(self, prev_res):\n",
        "    \"\"\"\n",
        "    Calculate dot product between weights and inputs\n",
        "    Formula:\n",
        "      activation(Weights . value_before + bias)\n",
        "\n",
        "    Parameters:\n",
        "      prev_res (np.array) -> Input given to layer\n",
        "    \"\"\"\n",
        "    self.prev_res = prev_res\n",
        "    mult = self.weights @ self.prev_res\n",
        "    for i in range(self.weights.shape[0]):\n",
        "      mult[i] += self.bias[0][i]\n",
        "    self.out = self.activation_function(mult)\n",
        "\n",
        "  def __str__(self):\n",
        "    return f'{self.weights}'"
      ],
      "execution_count": null,
      "outputs": []
    },
    {
      "cell_type": "code",
      "metadata": {
        "id": "0hiElLD9uymD"
      },
      "source": [
        "class BuildError(Exception):\n",
        "  \"\"\"\n",
        "  Exception when build ANN\n",
        "  \"\"\"\n",
        "  def __init__(self, message):\n",
        "    super().__init__(message)"
      ],
      "execution_count": null,
      "outputs": []
    },
    {
      "cell_type": "code",
      "metadata": {
        "id": "KevsdaNmLBpp"
      },
      "source": [
        "class ANNClassifier():\n",
        "  \"\"\"\n",
        "  Attributes:\n",
        "    x (np.array) -> with shape (n_features, n_data)\n",
        "    y (np.array) -> with shape (n_data, n_class or 1)\n",
        "    learning_rate (float) -> learning_rate for training\n",
        "    metrics (function) -> metrics for evaluation\n",
        "    verbose (int) -> output message training every epoch\n",
        "    layers (list(HiddenLayer)) -> last layer is output layer\n",
        "    loss_hist (list(float)) -> loss history \n",
        "    score_hist (list(float)) -> score history\n",
        "    history (list(float)) -> input from every layer\n",
        "    \n",
        "  Method:\n",
        "    __feed_forward -> feed forward in ANN\n",
        "    __back_propagation -> back propagation in ANN\n",
        "    __create_batch -> create mini batch data\n",
        "    add -> insert layer to ANN\n",
        "    compile -> compile model\n",
        "    train -> train model\n",
        "    predict -> predict data\n",
        "    save -> saving model\n",
        "    load -> loading model\n",
        "    plot_loss -> plotting loss in train\n",
        "    plot_score -> plotting score in train\n",
        "  \"\"\"\n",
        "  def __init__(self, verbose=1):\n",
        "    self.verbose = verbose\n",
        "    self.layers = []\n",
        "    self.score_hist = []\n",
        "    self.history = []\n",
        "    self.loss_hist = []\n",
        "\n",
        "  def __feed_forward(self, batch):\n",
        "    \"\"\"\n",
        "    Feed Forward method used in ANN which calculate input and produce output\n",
        "    using dot product in every layer\n",
        "\n",
        "    Parameters:\n",
        "      batch (np.array) -> Used data\n",
        "\n",
        "    Formula:\n",
        "      res[0] = input\n",
        "      res[1] = activation(Weights[0] . res[0] + bias[0])\n",
        "      res[2] = activation(Weights[1] . res[1] + bias[1])\n",
        "      .\n",
        "      ..\n",
        "      ...\n",
        "      res[n] = activation(Weights[n-1] . res[n-1] + bias[n-1])\n",
        "      output = activation(Weights[n] . res[n] + bias[n])\n",
        "    \"\"\"\n",
        "    self.layers[0].prev_res = batch[0]\n",
        "    prev_res = self.layers[0].prev_res\n",
        "    for layer in self.layers:\n",
        "      layer.calculate_out(prev_res)\n",
        "      prev_res = layer.out\n",
        "  \n",
        "  def __back_propagation(self, batch):\n",
        "    \"\"\"\n",
        "    Backpropagation method\n",
        "    Step:\n",
        "      1. Calculate dE/dOut (error'(output layer))\n",
        "      2. Calculate dOut/dNet (activation'(output layer))\n",
        "      3. Calculate dNet/dW (input layer)\n",
        "      4. Calculate multiplication from dEdOut and dOutdNet\n",
        "      5. Calculate mult by multiply dEdOut with dOutdNet. If not last layer,\n",
        "         need to times mult before with dOutdNet and dot product it with\n",
        "         transpose previous layer weights\n",
        "      6. Find step using dot product between mult and transpose dNetdW (nabla)\n",
        "      7. Updating weight\n",
        "      8. Repeat until all weights updated\n",
        "    \"\"\"\n",
        "    prev_layer = deepcopy(self.layers[-1])\n",
        "\n",
        "    if (activation_func_dump(self.layers[-1].activation_function) == \"softmax\"):\n",
        "      dEdNet = softmax_derivative(self.layers[-1].out, batch[1].T)\n",
        "      mult = dEdNet\n",
        "    else:\n",
        "      dEdOut = self.loss(self.layers[-1].out, batch[1].T, derivative=True)\n",
        "      dOutdNet = self.layers[-1].activation_function(\n",
        "          self.layers[-1].out, derivative=True)\n",
        "      mult = dEdOut * dOutdNet\n",
        "\n",
        "    dNetdW = self.layers[-1].prev_res\n",
        "    nabla = mult @ dNetdW.T\n",
        "    self.layers[-1].weights -= self.learning_rate * nabla\n",
        "\n",
        "    # bias\n",
        "    x = np.matrix([[1] * self.layers[-1].bias.shape[0]] * self.layers[-1].prev_res.shape[1])\n",
        "    nabla_bias = mult @ x\n",
        "    self.layers[-1].bias -= self.learning_rate * nabla_bias.T\n",
        "    \n",
        "    for layer in np.flip(self.layers)[1:]:\n",
        "      dOutdNet = layer.activation_function(layer.out, derivative=True)\n",
        "      mult = prev_layer.weights.T @ mult * dOutdNet\n",
        "      dNetdW = layer.prev_res\n",
        "      nabla = mult @ dNetdW.T\n",
        "      prev_layer = deepcopy(layer)\n",
        "      layer.weights -= self.learning_rate * nabla\n",
        "\n",
        "      # Update bias\n",
        "      x = np.matrix([[1] * layer.bias.shape[0]] * layer.prev_res.shape[1])\n",
        "      nabla_bias = mult @ x\n",
        "      layer.bias -= self.learning_rate * nabla_bias.T\n",
        "    \n",
        "  def __create_batch(self):\n",
        "    \"\"\"\n",
        "    Create mini batch data as many as batch size\n",
        "\n",
        "    Return:\n",
        "      batches -> mini batch after splitting\n",
        "    \"\"\"\n",
        "    batches = []\n",
        "    data = self.x.T\n",
        "    n_data = data.shape[0]\n",
        "    n_batch = n_data // self.batch_size\n",
        "    total = 0\n",
        "\n",
        "    for i in range(self.batch_size):\n",
        "      start = self.batch_size * i\n",
        "      if i == self.batch_size - 1:\n",
        "        mini_batch = (data[start:].T, self.y[start:])\n",
        "      else:\n",
        "        end = start + n_batch\n",
        "        mini_batch = (data[start:end].T, self.y[start:end])\n",
        "        total += end-start\n",
        "      batches.append(mini_batch)\n",
        "    \n",
        "    return batches\n",
        "\n",
        "  def compile(self, \n",
        "              x, \n",
        "              y, \n",
        "              learning_rate=0.1, \n",
        "              metrics=accuracy_score, \n",
        "              loss=mse,\n",
        "              batch_size=16):\n",
        "    \"\"\"\n",
        "    Compiling model before training\n",
        "\n",
        "    Parameters:\n",
        "      x (np.array) -> input data with shape (n_features, n_data)\n",
        "      y (np.array) -> target input with shape (n_data, n_class or 1)\n",
        "      learning_rate (int) -> learning rate used for training\n",
        "      metrics (function) -> metrics used to evaluate model performance\n",
        "      loss (function) -> error function for training and evaluate model \n",
        "                         performance\n",
        "      batch_size (int) -> batch used every training\n",
        "    \n",
        "    Throws:\n",
        "      BuildError -> batch size > data size\n",
        "    \"\"\"\n",
        "    if batch_size > x.shape[0]:\n",
        "      raise BuildError(\"Input Batch Size should be < data size\")\n",
        "    if (activation_func_dump(self.layers[-1].activation_function) == 'softmax')\\\n",
        "     and (loss != cross_entropy):\n",
        "      raise BuildError(\"Softmax output layer must use cross entropy loss function\")\n",
        "\n",
        "    self.x = x.T\n",
        "    self.y = y\n",
        "    self.learning_rate = learning_rate\n",
        "    self.metrics = metrics\n",
        "    self.loss = loss\n",
        "    self.batch_size = batch_size\n",
        "\n",
        "  def train(self, epochs=5, error_threshold = 0.0001):\n",
        "    \"\"\"\n",
        "    Training model\n",
        "    Step:\n",
        "      1. Splitting batch\n",
        "      2. Feed Forward\n",
        "      3. Back Propagation (Including updating weight)\n",
        "    \"\"\"\n",
        "    self.epochs = epochs\n",
        "    batches = self.__create_batch()\n",
        "\n",
        "    for _ in range(epochs):\n",
        "      for batch in batches:\n",
        "        self.__feed_forward(batch)\n",
        "        self.__back_propagation(batch)\n",
        "\n",
        "      out = self.predict(self.x, trained=True)\n",
        "      error = np.sum(self.loss(out.T, self.y.T))\n",
        "      score = self.metrics(out, self.y)\n",
        "\n",
        "      if self.verbose == 1:\n",
        "        print('Epochs {0}, loss = {1:.8f}, score = {2:.8f}'\n",
        "              .format(_+1, error, score))\n",
        "      \n",
        "      self.loss_hist.append(error)\n",
        "      self.score_hist.append(score)\n",
        "      if (error < error_threshold) :\n",
        "        self.epochs = _+1\n",
        "        print(f'Train Terminated because loss < loss_threshold ({error} < {error_threshold})')\n",
        "        break\n",
        "\n",
        "  def add(self, nodes, input_dim=None, activation_function=sigmoid):\n",
        "    \"\"\"\n",
        "    Add another Hidden Layer into ANNClassifier\n",
        "    \n",
        "    Parameters:\n",
        "      nodes (int) -> how many nodes in the layer\n",
        "      input_dim (int) -> dimension of input data (Used only for the first layer)\n",
        "      activation_function (function) -> what activation function used in the \n",
        "      layer\n",
        "    \"\"\"\n",
        "    if len(self.layers) == 0:\n",
        "      if (input_dim is None):\n",
        "        raise BuildError(\"This is input layer, please provide input_dim in parameter\")\n",
        "      weights_shape = (nodes, input_dim)\n",
        "      layer = HiddenLayer(weights_shape, activation_function)\n",
        "    else:\n",
        "      weights_shape = (nodes, self.layers[-1].weights.shape[0])\n",
        "      layer = HiddenLayer(weights_shape, \n",
        "                          activation_function)\n",
        "    self.layers.append(layer)\n",
        "\n",
        "  def predict(self, in_val, trained=False):\n",
        "    \"\"\"\n",
        "    Predict given data\n",
        "\n",
        "    Parameters:\n",
        "      in_val (np.array) -> with shape (n_data, n_features)\n",
        "    \n",
        "    Return:\n",
        "      prev_res -> predicted value\n",
        "    \"\"\"\n",
        "    self.history = []\n",
        "    if not trained:\n",
        "      prev_res = np.array(in_val).T\n",
        "    else:\n",
        "      prev_res = np.array(in_val)\n",
        "    for layer in self.layers:\n",
        "      self.history.append(prev_res)\n",
        "      layer.calculate_out(prev_res)\n",
        "      prev_res = layer.out\n",
        "    self.history.append(prev_res)\n",
        "    return prev_res.T\n",
        "  \n",
        "  def save(self, filename):\n",
        "    \"\"\"\n",
        "    Save layers, layers weights and activation_function\n",
        "    \"\"\"\n",
        "    layers = list(map(\n",
        "      lambda layer : {\n",
        "        \"nodes\" : layer.weights.shape[0],\n",
        "        \"weights\" : layer.weights,\n",
        "        \"bias\" : layer.bias,\n",
        "        \"activation\" : activation_func_dump(layer.activation_function)\n",
        "      }, \n",
        "      self.layers\n",
        "    ))\n",
        "\n",
        "    if (self.verbose > 1):\n",
        "      print(\"Export:\")\n",
        "      pprint(layers)\n",
        "\n",
        "    export_to_json(layers, filename)\n",
        "\n",
        "\n",
        "  def load(self, filename):\n",
        "    \"\"\"\n",
        "    Load layers, layers weights and activation function\n",
        "    \"\"\"\n",
        "    layers = import_from_json(filename)\n",
        "\n",
        "    if (self.verbose > 1):\n",
        "      print(\"Import : \")\n",
        "      pprint(layers)\n",
        "\n",
        "    for count, layer in enumerate(layers) : \n",
        "      if count == 0:\n",
        "        self.add(layer['nodes'], input_dim=len(layer['weights'][0]),\n",
        "                 activation_function=\n",
        "                 activation_func_identifier(layer['activation']))\n",
        "      else:\n",
        "        self.add(layer['nodes'], activation_function = \n",
        "                 activation_func_identifier(layer['activation']))\n",
        "      self.layers[-1].weights = np.array(layer['weights'])\n",
        "      self.layers[-1].bias = layer['bias']\n",
        "  \n",
        "  def summary(self):\n",
        "    \"\"\"\n",
        "    Summary of the model (layers, shape, params, and weight)\n",
        "    \"\"\"\n",
        "    if len(self.layers) == 0:\n",
        "      raise BuildError('You need to build the model first')\n",
        "    summary = []\n",
        "    dim = self.layers[0].weights.shape[1]\n",
        "    for count, layer in enumerate(self.layers) :\n",
        "      param = (dim + 1) * layer.weights.shape[0] \n",
        "      dim = layer.weights.shape[0]\n",
        "      summary.append({\n",
        "          'layer': f'dense_{count} (Dense)',\n",
        "          'output': layer.weights.shape[0],\n",
        "          'activation': layer.activation_function.__name__,\n",
        "          'param': param,\n",
        "          'weight': layer.weights,\n",
        "          'bias' : layer.bias\n",
        "      })\n",
        "\n",
        "    print(\"SUMMARY\")\n",
        "    print(\"====================================\")\n",
        "    print(f'Layer (Type)\\t: Input Layer')\n",
        "    print(f'Activation\\t: None')\n",
        "    print(f'Output Shape\\t: {self.layers[0].weights.shape[1]}')\n",
        "    print(f'Param\\t\\t: -')\n",
        "\n",
        "    total_param = 0\n",
        "    for layer in summary:\n",
        "      total_param += layer['param']\n",
        "      print(\"====================================\")\n",
        "      print(f'Layer (Type)\\t: {layer[\"layer\"]}')\n",
        "      print(f'Activation\\t: {layer[\"activation\"]}')\n",
        "      print(f'Output Shape\\t: {layer[\"output\"]}')\n",
        "      print(f'Param\\t\\t: {layer[\"param\"]}')\n",
        "      print(\"Weight\\t\\t:\")\n",
        "      for count, weight in enumerate(layer[\"weight\"]):\n",
        "        print(f'\\tnode_{count} {weight}')\n",
        "      print(f'\\tbias {layer[\"bias\"][0]}')\n",
        "    \n",
        "    print(\"====================================\")\n",
        "    print(f\"Total params : {total_param}\")\n",
        "\n",
        "  def plot_loss(self):\n",
        "    plt.plot(range(self.epochs), self.loss_hist, color = 'r')\n",
        "    plt.ylabel('error')\n",
        "    plt.xlabel('epochs')\n",
        "    plt.title('Error')\n",
        "    plt.show()\n",
        "\n",
        "  def plot_score(self):\n",
        "    plt.plot(range(self.epochs), self.score_hist, color = 'r')\n",
        "    plt.ylabel('scores')\n",
        "    plt.xlabel('epochs')\n",
        "    plt.title('Score')\n",
        "    plt.show()\n",
        "\n",
        "  def get_init_weights(self):\n",
        "    if len(self.layers) == 0:\n",
        "      raise BuildError('You need to build the model first')\n",
        "    \n",
        "    init_weights= []\n",
        "    for layer_number in range (len(model.layers)):\n",
        "      weights = []\n",
        "      for idx, weights_in_node in enumerate(self.layers[layer_number].weights):\n",
        "        count=0\n",
        "        while (count < len(weights_in_node)):\n",
        "          if (idx == 0):\n",
        "            weights.append([weights_in_node[count]])\n",
        "          else:\n",
        "            weights[count].append(weights_in_node[count])\n",
        "          count = count+1\n",
        "      bias = self.layers[layer_number].bias[0].copy() \n",
        "      init_weights.append([np.array(weights), bias])\n",
        "      \n",
        "    return init_weights"
      ],
      "execution_count": null,
      "outputs": []
    },
    {
      "cell_type": "markdown",
      "metadata": {
        "id": "nBhZl8Bf1eiM"
      },
      "source": [
        "# Hasil Hipotesis (ANN) vs PPT\n",
        "---\n",
        "Berikut kami sertakan contoh pembelajaran dan hasil dari ANN yang kami buat dengan contoh data masukan pada PPT kuliah"
      ]
    },
    {
      "cell_type": "code",
      "metadata": {
        "id": "Lex7XnHW1fQt"
      },
      "source": [
        "x = np.array([[0.05, 0.1]])\n",
        "y = np.array([[0.01, 0.99]])"
      ],
      "execution_count": null,
      "outputs": []
    },
    {
      "cell_type": "code",
      "metadata": {
        "id": "V5Rr3sMf1vzu"
      },
      "source": [
        "model = ANNClassifier()\n",
        "model.add(2, input_dim=x.shape[1], activation_function=sigmoid)\n",
        "model.add(2, activation_function=sigmoid)"
      ],
      "execution_count": null,
      "outputs": []
    },
    {
      "cell_type": "code",
      "metadata": {
        "id": "e0Q9TPL02E07"
      },
      "source": [
        "model.layers[0].weights = np.array([[0.15, 0.2],\n",
        "                                    [0.25, 0.3]])\n",
        "model.layers[0].bias = np.array([[0.35, 0.35]])\n",
        "model.layers[1].weights = np.array([[0.4, 0.45],\n",
        "                                    [0.5, 0.55]])\n",
        "model.layers[1].bias = np.array([[0.6, 0.6]])"
      ],
      "execution_count": null,
      "outputs": []
    },
    {
      "cell_type": "code",
      "metadata": {
        "id": "50VCaeJk2wCp"
      },
      "source": [
        "model.compile(x, y, learning_rate=0.5, batch_size=1, loss=mse)"
      ],
      "execution_count": null,
      "outputs": []
    },
    {
      "cell_type": "code",
      "metadata": {
        "id": "dCcMZsxx2rGm",
        "colab": {
          "base_uri": "https://localhost:8080/"
        },
        "outputId": "69af343b-63e1-4e45-8327-a82072f2a574"
      },
      "source": [
        "model.train(epochs=1)"
      ],
      "execution_count": null,
      "outputs": [
        {
          "output_type": "stream",
          "text": [
            "Epochs 1, loss = 0.28047145, score = 0.00000000\n"
          ],
          "name": "stdout"
        }
      ]
    },
    {
      "cell_type": "code",
      "metadata": {
        "colab": {
          "base_uri": "https://localhost:8080/"
        },
        "id": "6pI7bseDQmwi",
        "outputId": "b7dd8856-d525-4cd7-8c86-a0c888a24e7c"
      },
      "source": [
        "model.summary()"
      ],
      "execution_count": null,
      "outputs": [
        {
          "output_type": "stream",
          "text": [
            "SUMMARY\n",
            "====================================\n",
            "Layer (Type)\t: Input Layer\n",
            "Activation\t: None\n",
            "Output Shape\t: 2\n",
            "Param\t\t: -\n",
            "====================================\n",
            "Layer (Type)\t: dense_0 (Dense)\n",
            "Activation\t: sigmoid\n",
            "Output Shape\t: 2\n",
            "Param\t\t: 6\n",
            "Weight\t\t:\n",
            "\tnode_0 [0.14978072 0.19956143]\n",
            "\tnode_1 [0.24975114 0.29950229]\n",
            "\tbias [0.34561432 0.34502287]\n",
            "====================================\n",
            "Layer (Type)\t: dense_1 (Dense)\n",
            "Activation\t: sigmoid\n",
            "Output Shape\t: 2\n",
            "Param\t\t: 6\n",
            "Weight\t\t:\n",
            "\tnode_0 [0.35891648 0.40866619]\n",
            "\tnode_1 [0.51130127 0.56137012]\n",
            "\tbias [0.53075072 0.61904912]\n",
            "====================================\n",
            "Total params : 12\n"
          ],
          "name": "stdout"
        }
      ]
    },
    {
      "cell_type": "markdown",
      "metadata": {
        "id": "6VWruYRl9hjc"
      },
      "source": [
        "# Testing\n",
        "---\n",
        "Pada tahap ini, kami melakukan pengujian ANN yang berhasil kami susun dengan 2 data uji, yaitu : \n",
        "* Breast Cancer Data (untuk pengujian _binary classification_)\n",
        "* Iris Data (untuk pengujian _multiclass classification_)"
      ]
    },
    {
      "cell_type": "markdown",
      "metadata": {
        "id": "eUtc9Gytsf_O"
      },
      "source": [
        "## Sigmoid for binary classification"
      ]
    },
    {
      "cell_type": "code",
      "metadata": {
        "id": "KgsJIXWCZvHf"
      },
      "source": [
        "from sklearn.datasets import load_iris\n",
        "from sklearn.datasets import load_breast_cancer\n",
        "\n",
        "breast_cancer = load_breast_cancer()\n",
        "x = breast_cancer['data']\n",
        "y = breast_cancer['target']\n",
        "y = y.reshape(-1,1)"
      ],
      "execution_count": null,
      "outputs": []
    },
    {
      "cell_type": "code",
      "metadata": {
        "id": "VIOitVdZcY2W"
      },
      "source": [
        "from sklearn.preprocessing import StandardScaler\n",
        "scale = StandardScaler()\n",
        "x = scale.fit_transform(x)"
      ],
      "execution_count": null,
      "outputs": []
    },
    {
      "cell_type": "code",
      "metadata": {
        "id": "S2QjDJeoaH3x"
      },
      "source": [
        "model = ANNClassifier()\n",
        "model.add(2, input_dim=x.shape[1], activation_function=sigmoid)\n",
        "model.add(1, activation_function=sigmoid)"
      ],
      "execution_count": null,
      "outputs": []
    },
    {
      "cell_type": "code",
      "metadata": {
        "id": "a_xvE-2qaWmV",
        "colab": {
          "base_uri": "https://localhost:8080/"
        },
        "outputId": "2d08326c-56ad-4338-f5fe-6202ab3d5299"
      },
      "source": [
        "model.compile(x, y, learning_rate=0.5, batch_size=5, metrics=accuracy_score)\n",
        "model.train(epochs=10, error_threshold=2)"
      ],
      "execution_count": null,
      "outputs": [
        {
          "output_type": "stream",
          "text": [
            "Epochs 1, loss = 104.37626306, score = 0.62741652\n",
            "Epochs 2, loss = 5.48259242, score = 0.97188049\n",
            "Epochs 3, loss = 5.89603837, score = 0.97539543\n",
            "Epochs 4, loss = 3.49347026, score = 0.98594025\n",
            "Epochs 5, loss = 4.98715964, score = 0.97891037\n",
            "Epochs 6, loss = 6.21850029, score = 0.97012302\n",
            "Epochs 7, loss = 3.42362272, score = 0.98594025\n",
            "Epochs 8, loss = 3.14192023, score = 0.98769772\n",
            "Epochs 9, loss = 3.01704188, score = 0.98945518\n",
            "Epochs 10, loss = 2.91646823, score = 0.98945518\n"
          ],
          "name": "stdout"
        }
      ]
    },
    {
      "cell_type": "code",
      "metadata": {
        "id": "O7sVUvceaeqN",
        "colab": {
          "base_uri": "https://localhost:8080/"
        },
        "outputId": "57c04fd1-d115-43af-b593-8f4e675498c5"
      },
      "source": [
        "y_pred = np.round(model.predict(x))\n",
        "accuracy_score(y_pred, y)"
      ],
      "execution_count": null,
      "outputs": [
        {
          "output_type": "execute_result",
          "data": {
            "text/plain": [
              "0.9894551845342706"
            ]
          },
          "metadata": {
            "tags": []
          },
          "execution_count": 16
        }
      ]
    },
    {
      "cell_type": "code",
      "metadata": {
        "colab": {
          "base_uri": "https://localhost:8080/",
          "height": 295
        },
        "id": "_CMNZqsRaqdt",
        "outputId": "570e40f2-42cd-4f34-f37e-cc3894b879e9"
      },
      "source": [
        "model.plot_loss()"
      ],
      "execution_count": null,
      "outputs": [
        {
          "output_type": "display_data",
          "data": {
            "image/png": "[encoded data removed]",
            "text/plain": [
              "<Figure size 432x288 with 1 Axes>"
            ]
          },
          "metadata": {
            "tags": [],
            "needs_background": "light"
          }
        }
      ]
    },
    {
      "cell_type": "code",
      "metadata": {
        "colab": {
          "base_uri": "https://localhost:8080/",
          "height": 295
        },
        "id": "6dD2s5LmasWP",
        "outputId": "159e1a05-f95e-4be7-a97f-5c3427149459"
      },
      "source": [
        "model.plot_score()"
      ],
      "execution_count": null,
      "outputs": [
        {
          "output_type": "display_data",
          "data": {
            "image/png": "[encoded data removed]",
            "text/plain": [
              "<Figure size 432x288 with 1 Axes>"
            ]
          },
          "metadata": {
            "tags": [],
            "needs_background": "light"
          }
        }
      ]
    },
    {
      "cell_type": "markdown",
      "metadata": {
        "id": "FrMRWzHpsmTS"
      },
      "source": [
        "## Softmax for multiclass classification"
      ]
    },
    {
      "cell_type": "code",
      "metadata": {
        "id": "GIH1tNcyss6c"
      },
      "source": [
        "from sklearn.datasets import load_iris\n",
        "\n",
        "iris_dataset = load_iris()\n",
        "x = iris_dataset['data']\n",
        "y = iris_dataset['target']\n",
        "b = one_hot_encoder(y)"
      ],
      "execution_count": null,
      "outputs": []
    },
    {
      "cell_type": "code",
      "metadata": {
        "id": "03qTUbKUs1XL"
      },
      "source": [
        "from sklearn.preprocessing import StandardScaler\n",
        "scale = StandardScaler()\n",
        "x = scale.fit_transform(x)"
      ],
      "execution_count": null,
      "outputs": []
    },
    {
      "cell_type": "code",
      "metadata": {
        "id": "0Nn9kFNIs4lc"
      },
      "source": [
        "model = ANNClassifier()\n",
        "model.add(4, input_dim=x.shape[1], activation_function=sigmoid)\n",
        "model.add(3, activation_function=softmax)"
      ],
      "execution_count": null,
      "outputs": []
    },
    {
      "cell_type": "code",
      "metadata": {
        "colab": {
          "base_uri": "https://localhost:8080/"
        },
        "id": "92chuivss75v",
        "outputId": "c7a6aeda-7c51-4f98-d11e-2713a7db1803"
      },
      "source": [
        "model.summary()"
      ],
      "execution_count": null,
      "outputs": [
        {
          "output_type": "stream",
          "text": [
            "SUMMARY\n",
            "====================================\n",
            "Layer (Type)\t: Input Layer\n",
            "Activation\t: None\n",
            "Output Shape\t: 4\n",
            "Param\t\t: -\n",
            "====================================\n",
            "Layer (Type)\t: dense_0 (Dense)\n",
            "Activation\t: sigmoid\n",
            "Output Shape\t: 4\n",
            "Param\t\t: 20\n",
            "Weight\t\t:\n",
            "\tnode_0 [0.9528225  0.34410054 0.15633799 0.1180927 ]\n",
            "\tnode_1 [0.91196374 0.36245569 0.35573044 0.11640537]\n",
            "\tnode_2 [0.12287745 0.28548617 0.62902441 0.39981368]\n",
            "\tnode_3 [0.3083528  0.59451145 0.46102819 0.48106642]\n",
            "\tbias [0.14755317 0.10038262 0.10820599 0.97794824]\n",
            "====================================\n",
            "Layer (Type)\t: dense_1 (Dense)\n",
            "Activation\t: softmax\n",
            "Output Shape\t: 3\n",
            "Param\t\t: 15\n",
            "Weight\t\t:\n",
            "\tnode_0 [0.28059706 0.28660845 0.10874756 0.82724209]\n",
            "\tnode_1 [0.67520696 0.78536967 0.33662002 0.82395034]\n",
            "\tnode_2 [0.97873227 0.66301027 0.20706783 0.93128402]\n",
            "\tbias [0.64864507 0.28723782 0.15471414]\n",
            "====================================\n",
            "Total params : 35\n"
          ],
          "name": "stdout"
        }
      ]
    },
    {
      "cell_type": "code",
      "metadata": {
        "id": "oIzqxhlJs9zJ",
        "colab": {
          "base_uri": "https://localhost:8080/"
        },
        "outputId": "692316af-1433-4e0e-dff8-7a15a444b65f"
      },
      "source": [
        "model.compile(x, b, learning_rate=0.1, loss=cross_entropy, batch_size=5)\n",
        "model.train(epochs=50)"
      ],
      "execution_count": null,
      "outputs": [
        {
          "output_type": "stream",
          "text": [
            "Epochs 1, loss = 1616.24092588, score = 0.33333333\n",
            "Epochs 2, loss = 88.64288702, score = 0.62000000\n",
            "Epochs 3, loss = 128.33002578, score = 0.62666667\n",
            "Epochs 4, loss = 649.76467504, score = 0.66666667\n",
            "Epochs 5, loss = 525.52371404, score = 0.33333333\n",
            "Epochs 6, loss = 857.35076326, score = 0.66666667\n",
            "Epochs 7, loss = 92.72811540, score = 0.59333333\n",
            "Epochs 8, loss = 271.21223318, score = 0.53333333\n",
            "Epochs 9, loss = 91.17399866, score = 0.61333333\n",
            "Epochs 10, loss = 161.41467173, score = 0.50666667\n",
            "Epochs 11, loss = 70.33312281, score = 0.88000000\n",
            "Epochs 12, loss = 89.96715317, score = 0.86000000\n",
            "Epochs 13, loss = 86.52846079, score = 0.90000000\n",
            "Epochs 14, loss = 100.33316933, score = 0.84666667\n",
            "Epochs 15, loss = 86.60517013, score = 0.92000000\n",
            "Epochs 16, loss = 49.71116347, score = 0.91333333\n",
            "Epochs 17, loss = 36.76672760, score = 0.94000000\n",
            "Epochs 18, loss = 16.95338724, score = 0.96666667\n",
            "Epochs 19, loss = 16.25909514, score = 0.97333333\n",
            "Epochs 20, loss = 10.63856294, score = 0.96000000\n",
            "Epochs 21, loss = 10.24690152, score = 0.96666667\n",
            "Epochs 22, loss = 9.91186415, score = 0.96666667\n",
            "Epochs 23, loss = 9.66026709, score = 0.96666667\n",
            "Epochs 24, loss = 9.44571127, score = 0.97333333\n",
            "Epochs 25, loss = 9.23350713, score = 0.96666667\n",
            "Epochs 26, loss = 9.05770190, score = 0.98000000\n",
            "Epochs 27, loss = 8.93248766, score = 0.96666667\n",
            "Epochs 28, loss = 8.92486802, score = 0.98000000\n",
            "Epochs 29, loss = 9.23172176, score = 0.96666667\n",
            "Epochs 30, loss = 9.55097814, score = 0.98666667\n",
            "Epochs 31, loss = 10.44708981, score = 0.96000000\n",
            "Epochs 32, loss = 10.58684616, score = 0.97333333\n",
            "Epochs 33, loss = 11.81372351, score = 0.96000000\n",
            "Epochs 34, loss = 11.06370633, score = 0.97333333\n",
            "Epochs 35, loss = 12.24631226, score = 0.96666667\n",
            "Epochs 36, loss = 11.00758281, score = 0.97333333\n",
            "Epochs 37, loss = 11.88285134, score = 0.96000000\n",
            "Epochs 38, loss = 10.68032974, score = 0.97333333\n",
            "Epochs 39, loss = 11.15293861, score = 0.96000000\n",
            "Epochs 40, loss = 10.04274918, score = 0.98000000\n",
            "Epochs 41, loss = 10.01617040, score = 0.96666667\n",
            "Epochs 42, loss = 9.01192650, score = 0.98666667\n",
            "Epochs 43, loss = 8.55019629, score = 0.97333333\n",
            "Epochs 44, loss = 7.83945206, score = 0.98666667\n",
            "Epochs 45, loss = 7.43640673, score = 0.98000000\n",
            "Epochs 46, loss = 7.19245382, score = 0.98666667\n",
            "Epochs 47, loss = 7.05991433, score = 0.98666667\n",
            "Epochs 48, loss = 7.00415056, score = 0.98666667\n",
            "Epochs 49, loss = 6.96212377, score = 0.98666667\n",
            "Epochs 50, loss = 6.94063127, score = 0.98666667\n"
          ],
          "name": "stdout"
        }
      ]
    },
    {
      "cell_type": "code",
      "metadata": {
        "colab": {
          "base_uri": "https://localhost:8080/"
        },
        "id": "kfM2L2Qo5EgK",
        "outputId": "fbfd5169-c403-4b2b-9696-78db9f140bfd"
      },
      "source": [
        "y_pred = model.predict(x)\n",
        "accuracy_score(y_pred, b)"
      ],
      "execution_count": null,
      "outputs": [
        {
          "output_type": "execute_result",
          "data": {
            "text/plain": [
              "0.9866666666666667"
            ]
          },
          "metadata": {
            "tags": []
          },
          "execution_count": 24
        }
      ]
    },
    {
      "cell_type": "code",
      "metadata": {
        "colab": {
          "base_uri": "https://localhost:8080/",
          "height": 295
        },
        "id": "moRD--1Db1H1",
        "outputId": "f928cc3e-246b-4bcf-9afc-e25ca3d52885"
      },
      "source": [
        "model.plot_loss()"
      ],
      "execution_count": null,
      "outputs": [
        {
          "output_type": "display_data",
          "data": {
            "image/png": "[encoded data removed]",
            "text/plain": [
              "<Figure size 432x288 with 1 Axes>"
            ]
          },
          "metadata": {
            "tags": [],
            "needs_background": "light"
          }
        }
      ]
    },
    {
      "cell_type": "code",
      "metadata": {
        "colab": {
          "base_uri": "https://localhost:8080/",
          "height": 295
        },
        "id": "h0qTsHbYb2bt",
        "outputId": "b59e5921-59d6-49f1-9a5c-ae8a1f3befc7"
      },
      "source": [
        "model.plot_score()"
      ],
      "execution_count": null,
      "outputs": [
        {
          "output_type": "display_data",
          "data": {
            "image/png": "[encoded data removed]",
            "text/plain": [
              "<Figure size 432x288 with 1 Axes>"
            ]
          },
          "metadata": {
            "tags": [],
            "needs_background": "light"
          }
        }
      ]
    },
    {
      "cell_type": "markdown",
      "metadata": {
        "id": "_4a_Mc5NN5wR"
      },
      "source": [
        "# Comparison (vs MLP Sklearn)\n",
        "---\n",
        "Sebagai pembanding dan referensi hasil dari pengujian ANN yang kami lakukan, berikut kami sertakan pengujian dengan menggunakan _MLPClassifier_ dari sklearn dengan data yang serupa dengan pengujian sebelumnya\n"
      ]
    },
    {
      "cell_type": "code",
      "metadata": {
        "id": "xFl7yblAOC23"
      },
      "source": [
        "from sklearn.neural_network import MLPClassifier\n",
        "from sklearn.metrics import confusion_matrix, f1_score, precision_score, recall_score\n",
        "\n",
        "mlp_clf = MLPClassifier(random_state=42, hidden_layer_sizes=(4,), solver='sgd', activation='logistic',\n",
        "                      alpha=0, batch_size=5, learning_rate_init=0.5, power_t=0, \n",
        "                      max_iter=50, shuffle=False, verbose=True, momentum=0,\n",
        "                      beta_1=0, beta_2=0, n_iter_no_change=50)"
      ],
      "execution_count": null,
      "outputs": []
    },
    {
      "cell_type": "code",
      "metadata": {
        "id": "NyuirU6u-ZAy",
        "colab": {
          "base_uri": "https://localhost:8080/"
        },
        "outputId": "ce5644f2-3339-43b7-f1cb-5c124065d2d0"
      },
      "source": [
        "mlp_clf.fit(x, b)"
      ],
      "execution_count": null,
      "outputs": [
        {
          "output_type": "stream",
          "text": [
            "Iteration 1, loss = 1.39859113\n",
            "Iteration 2, loss = 1.18834130\n",
            "Iteration 3, loss = 0.96562343\n",
            "Iteration 4, loss = 0.87619095\n",
            "Iteration 5, loss = 0.80741905\n",
            "Iteration 6, loss = 0.73831561\n",
            "Iteration 7, loss = 0.66999424\n",
            "Iteration 8, loss = 0.60326280\n",
            "Iteration 9, loss = 0.53826584\n",
            "Iteration 10, loss = 0.47654172\n",
            "Iteration 11, loss = 0.42024099\n",
            "Iteration 12, loss = 0.37090558\n",
            "Iteration 13, loss = 0.32901527\n",
            "Iteration 14, loss = 0.29419604\n",
            "Iteration 15, loss = 0.26560392\n",
            "Iteration 16, loss = 0.24224095\n",
            "Iteration 17, loss = 0.22314777\n",
            "Iteration 18, loss = 0.20749002\n",
            "Iteration 19, loss = 0.19457893\n",
            "Iteration 20, loss = 0.18386086\n",
            "Iteration 21, loss = 0.17489644\n",
            "Iteration 22, loss = 0.16733879\n",
            "Iteration 23, loss = 0.16091442\n",
            "Iteration 24, loss = 0.15540766\n",
            "Iteration 25, loss = 0.15064814\n",
            "Iteration 26, loss = 0.14650099\n",
            "Iteration 27, loss = 0.14285911\n",
            "Iteration 28, loss = 0.13963716\n",
            "Iteration 29, loss = 0.13676683\n",
            "Iteration 30, loss = 0.13419321\n",
            "Iteration 31, loss = 0.13187189\n",
            "Iteration 32, loss = 0.12976679\n",
            "Iteration 33, loss = 0.12784841\n",
            "Iteration 34, loss = 0.12609248\n",
            "Iteration 35, loss = 0.12447894\n",
            "Iteration 36, loss = 0.12299104\n",
            "Iteration 37, loss = 0.12161479\n",
            "Iteration 38, loss = 0.12033835\n",
            "Iteration 39, loss = 0.11915168\n",
            "Iteration 40, loss = 0.11804620\n",
            "Iteration 41, loss = 0.11701453\n",
            "Iteration 42, loss = 0.11605028\n",
            "Iteration 43, loss = 0.11514787\n",
            "Iteration 44, loss = 0.11430242\n",
            "Iteration 45, loss = 0.11350962\n",
            "Iteration 46, loss = 0.11276564\n",
            "Iteration 47, loss = 0.11206707\n",
            "Iteration 48, loss = 0.11141084\n",
            "Iteration 49, loss = 0.11079417\n",
            "Iteration 50, loss = 0.11021457\n"
          ],
          "name": "stdout"
        },
        {
          "output_type": "execute_result",
          "data": {
            "text/plain": [
              "MLPClassifier(activation='logistic', alpha=0, batch_size=5, beta_1=0, beta_2=0,\n",
              "              early_stopping=False, epsilon=1e-08, hidden_layer_sizes=(4,),\n",
              "              learning_rate='constant', learning_rate_init=0.5, max_fun=15000,\n",
              "              max_iter=50, momentum=0, n_iter_no_change=50,\n",
              "              nesterovs_momentum=True, power_t=0, random_state=42,\n",
              "              shuffle=False, solver='sgd', tol=0.0001, validation_fraction=0.1,\n",
              "              verbose=True, warm_start=False)"
            ]
          },
          "metadata": {
            "tags": []
          },
          "execution_count": 28
        }
      ]
    },
    {
      "cell_type": "code",
      "metadata": {
        "id": "ngpYrnWD-gby",
        "colab": {
          "base_uri": "https://localhost:8080/"
        },
        "outputId": "97a99592-b828-4ffe-fa8e-2fb0378fe69e"
      },
      "source": [
        "test_pred = mlp_clf.predict(x)\n",
        "print(accuracy_score(test_pred, b))"
      ],
      "execution_count": null,
      "outputs": [
        {
          "output_type": "stream",
          "text": [
            "0.9666666666666667\n"
          ],
          "name": "stdout"
        }
      ]
    },
    {
      "cell_type": "markdown",
      "metadata": {
        "id": "fIW1AuqLicx0"
      },
      "source": [
        "# Laporan\n",
        "\n",
        "--- \n",
        "\n",
        "## A. Implementasi Mini-batch Gradient Descent\n",
        "Implementasi dilakukan dengan cara menambah atribut batch_size pada class ANN. Atribut ini akan digunakan nantinya pada saat training yaitu dengan membuat batch-batch sesuai dengan *batch_size* yang telah ditentukan. Untuk setiap batchnya maka akan dilakukan __Forward Propagation__ dan __Backward Propagation__. Foward Propagation akan melakukan perhitungan untuk setiap input sampai output. Backward Propagation digunakan untuk menghitung error dan sekaligus mengupdate weight yang ada pada layer tersebut untuk setiap node (termasuk bias).\n",
        "\n",
        "Implementasi backpropagation yang dilakukan adalah dengan mengimplementasi metode ____back_propagation__. metode ini melakukan aturan rantai untuk menghitung error dari layer output ke layer input.\n",
        "\n",
        "Untuk fungsi aktivasinya sendiri, kami telah mengimplementasikan 4 jenis fungsi aktivasi beserta derivasinya untuk _loss_ function (sigmoid, linear, relu, dan softmax)\n",
        "\n",
        "Dalam implementasi ANN dengan _Mini-batch Gradient Descent_ kami sendiri, terdapat beberapa parameter yang dapat ditangani, sebagai berikut : \n",
        "- __jumlah layer__ : layer dapat ditambah dengan memanfaatkan method _add_ pada ANN.\n",
        "- __jumlah neuron setiap layer__ : jumlah neuron tiap layer dapat diubah / dimodifikasi saat instansiasi layer, dengan memberikan argumen sesuai dengan jumlah neuron yang diinginkan saat pembuatan layer ANN.\n",
        "- __activation function__ : fungsi aktivasi tiap layernya diatur pada tahap pembuatan layer, dengan parameter *activation_function*. Sebagai catatan, untuk 1 layer yang sama seluruh node akan menggunakan fungsi aktivasi yang serupa.\n",
        "- __learning-rate__ : learning rate dari ANN dapat diatur saat melakukan **compile** terhadap model melalui parameter *learning_rate*.\n",
        "- __error threshold__: untuk mengubah / modifikasi terkait *error threshold* saat pembelajaran model dilakukan dengan menambahkan parameter *error_threshold* saat akan melakukan train.\n",
        "- **batch_size** : besar batch saat training dapat diatur saat melakukan **compile** terhadap model ANN, melalui parameter *batch_size* \n",
        "\n",
        "## B. Hasil Eksekusi\n",
        "Percobaan yang dilakukan adalah dengan melakukan testing terhadap model sigmoid dan softmax. Model sigmoid digunakan untuk klasifikasi kelas biner sedangkan pada model softmax digunakan untuk klasifikasi multiclass.\n",
        "\n",
        "Model Sigmoid yang dibangun memiliki 2 layer dengan 2 node untuk hidden layer dan 1 node untuk output layer. Kedua fungsi aktivasi menggunakan sigmoid. Model ini dilakukan sebanyak 10 epoch dengan *learning rate* 0.5 dan *batch_size* 5. Model dilakukan training untuk dataset *breast cancer* dan menunjukkan akurasi prediksi dari model adalah 98,95%.\n",
        "\n",
        "Model Softmax yang dibangun memiliki 2 layer dengan 4 node untuk hidden layer dan 3 node untuk output layer. Hidden node menggunakan fungsi aktivasi sigmoid dan output layer menggunakan fungsi softmax. PercoaaModel ini dilakukan sebanyak 50 epoch dengan *learning rate* 0.1 dan *batch_size* 5. Model dilakukan training untuk dataset *iris* dan menunjukkan akurasi prediksi dari model adalah 98,67%.\n",
        "\n",
        "## C. Hasil perbandingan\n",
        "\n",
        "Sebagai bahan pembanding, kami melakukan perbandingan hasil model ANN yang telah kami bangun dengan model MLP dari sklearn. \n",
        "Konfigurasi yang kami terapkan pada MLPClassifier sebagai berikut : \n",
        "- **solver** : sgd\n",
        "- **activation** : logistic\n",
        "- **batch_size** : 5\n",
        "- **max_iter** : 50\n",
        "- **learning_rate** (init) : 0.5\n",
        "\n",
        "Dari konfigurasi tersebut, diperoleh model MLPClassifier dengan tingkat akurasi prediksi sebesar **96,67%**. \n",
        "\n",
        "\n",
        "## D. Pembagian Kerja\n",
        "\n",
        "| NIM      | Anggota                        | Pembagian Tugas           |\n",
        "|----------|--------------------------------|---------------------------|\n",
        "| 13518024 | Jovan Karuna Cahyadi           | - Melakukan analisis perbandingan model dengan library MLPClassifier <br> - Laporan|\n",
        "| 13518062 | Ricky Fernando                 | - Updating bias <br>- Laporan |\n",
        "| 13518122 | Stefanus Stanley Yoga Setiawan | - Membuat algoritma backpropagation <br> - Membuat mini batch gradient descent <br> - Merubah struktur kelas ANNClassifier |\n",
        "| 13518138 | William                        |  - Membuat algoritma backpropagation bagian softmax <br> - Melakukan analisis pengujian perbandingan model untuk penggunaan backpropagation output layer softmax <br> - Menyusun laporan |\n"
      ]
    }
  ]
}